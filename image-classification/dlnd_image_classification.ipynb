{
 "cells": [
  {
   "cell_type": "markdown",
   "metadata": {
    "collapsed": true,
    "deletable": true,
    "editable": true
   },
   "source": [
    "# Image Classification\n",
    "In this project, you'll classify images from the [CIFAR-10 dataset](https://www.cs.toronto.edu/~kriz/cifar.html).  The dataset consists of airplanes, dogs, cats, and other objects. You'll preprocess the images, then train a convolutional neural network on all the samples. The images need to be normalized and the labels need to be one-hot encoded.  You'll get to apply what you learned and build a convolutional, max pooling, dropout, and fully connected layers.  At the end, you'll get to see your neural network's predictions on the sample images.\n",
    "## Get the Data\n",
    "Run the following cell to download the [CIFAR-10 dataset for python](https://www.cs.toronto.edu/~kriz/cifar-10-python.tar.gz)."
   ]
  },
  {
   "cell_type": "code",
   "execution_count": 4,
   "metadata": {
    "collapsed": false,
    "deletable": true,
    "editable": true
   },
   "outputs": [
    {
     "name": "stderr",
     "output_type": "stream",
     "text": [
      "CIFAR-10 Dataset: 171MB [02:12, 1.28MB/s]                               \n"
     ]
    },
    {
     "name": "stdout",
     "output_type": "stream",
     "text": [
      "All files found!\n"
     ]
    }
   ],
   "source": [
    "\"\"\"\n",
    "DON'T MODIFY ANYTHING IN THIS CELL THAT IS BELOW THIS LINE\n",
    "\"\"\"\n",
    "from urllib.request import urlretrieve\n",
    "from os.path import isfile, isdir\n",
    "from tqdm import tqdm\n",
    "import problem_unittests as tests\n",
    "import tarfile\n",
    "\n",
    "cifar10_dataset_folder_path = 'cifar-10-batches-py'\n",
    "\n",
    "class DLProgress(tqdm):\n",
    "    last_block = 0\n",
    "\n",
    "    def hook(self, block_num=1, block_size=1, total_size=None):\n",
    "        self.total = total_size\n",
    "        self.update((block_num - self.last_block) * block_size)\n",
    "        self.last_block = block_num\n",
    "\n",
    "if not isfile('cifar-10-python.tar.gz'):\n",
    "    with DLProgress(unit='B', unit_scale=True, miniters=1, desc='CIFAR-10 Dataset') as pbar:\n",
    "        urlretrieve(\n",
    "            'https://www.cs.toronto.edu/~kriz/cifar-10-python.tar.gz',\n",
    "            'cifar-10-python.tar.gz',\n",
    "            pbar.hook)\n",
    "\n",
    "if not isdir(cifar10_dataset_folder_path):\n",
    "    with tarfile.open('cifar-10-python.tar.gz') as tar:\n",
    "        tar.extractall()\n",
    "        tar.close()\n",
    "\n",
    "\n",
    "tests.test_folder_path(cifar10_dataset_folder_path)"
   ]
  },
  {
   "cell_type": "markdown",
   "metadata": {
    "deletable": true,
    "editable": true
   },
   "source": [
    "## Explore the Data\n",
    "The dataset is broken into batches to prevent your machine from running out of memory.  The CIFAR-10 dataset consists of 5 batches, named `data_batch_1`, `data_batch_2`, etc.. Each batch contains the labels and images that are one of the following:\n",
    "* airplane\n",
    "* automobile\n",
    "* bird\n",
    "* cat\n",
    "* deer\n",
    "* dog\n",
    "* frog\n",
    "* horse\n",
    "* ship\n",
    "* truck\n",
    "\n",
    "Understanding a dataset is part of making predictions on the data.  Play around with the code cell below by changing the `batch_id` and `sample_id`. The `batch_id` is the id for a batch (1-5). The `sample_id` is the id for a image and label pair in the batch.\n",
    "\n",
    "Ask yourself \"What are all possible labels?\", \"What is the range of values for the image data?\", \"Are the labels in order or random?\".  Answers to questions like these will help you preprocess the data and end up with better predictions."
   ]
  },
  {
   "cell_type": "code",
   "execution_count": 5,
   "metadata": {
    "collapsed": false,
    "deletable": true,
    "editable": true
   },
   "outputs": [
    {
     "name": "stdout",
     "output_type": "stream",
     "text": [
      "\n",
      "Stats of batch 4:\n",
      "Samples: 10000\n",
      "Label Counts: {0: 1003, 1: 963, 2: 1041, 3: 976, 4: 1004, 5: 1021, 6: 1004, 7: 981, 8: 1024, 9: 983}\n",
      "First 20 Labels: [0, 6, 0, 2, 7, 2, 1, 2, 4, 1, 5, 6, 6, 3, 1, 3, 5, 5, 8, 1]\n",
      "\n",
      "Example of Image 3:\n",
      "Image - Min Value: 0 Max Value: 248\n",
      "Image - Shape: (32, 32, 3)\n",
      "Label - Label Id: 2 Name: bird\n"
     ]
    },
    {
     "data": {
      "image/png": "[encoded data removed]",
      "text/plain": [
       "<matplotlib.figure.Figure at 0x7f5389a310b8>"
      ]
     },
     "metadata": {
      "image/png": {
       "height": 250,
       "width": 253
      }
     },
     "output_type": "display_data"
    }
   ],
   "source": [
    "%matplotlib inline\n",
    "%config InlineBackend.figure_format = 'retina'\n",
    "\n",
    "import helper\n",
    "import numpy as np\n",
    "\n",
    "# Explore the dataset\n",
    "batch_id  = 4\n",
    "sample_id = 3\n",
    "helper.display_stats(cifar10_dataset_folder_path, batch_id, sample_id)"
   ]
  },
  {
   "cell_type": "markdown",
   "metadata": {
    "deletable": true,
    "editable": true
   },
   "source": [
    "## Implement Preprocess Functions\n",
    "### Normalize\n",
    "In the cell below, implement the `normalize` function to take in image data, `x`, and return it as a normalized Numpy array. The values should be in the range of 0 to 1, inclusive.  The return object should be the same shape as `x`."
   ]
  },
  {
   "cell_type": "code",
   "execution_count": 6,
   "metadata": {
    "collapsed": false,
    "deletable": true,
    "editable": true
   },
   "outputs": [
    {
     "name": "stdout",
     "output_type": "stream",
     "text": [
      "Tests Passed\n"
     ]
    }
   ],
   "source": [
    "def normalize(x):\n",
    "    \"\"\"\n",
    "    Normalize a list of sample image data in the range of 0 to 1\n",
    "    : x: List of image data.  The image shape is (32, 32, 3)\n",
    "    : return: Numpy array of normalize data\n",
    "    \"\"\"\n",
    "    return np.array(x / 255)\n",
    "\n",
    "\n",
    "\"\"\"\n",
    "DON'T MODIFY ANYTHING IN THIS CELL THAT IS BELOW THIS LINE\n",
    "\"\"\"\n",
    "tests.test_normalize(normalize)"
   ]
  },
  {
   "cell_type": "markdown",
   "metadata": {
    "deletable": true,
    "editable": true
   },
   "source": [
    "### One-hot encode\n",
    "Just like the previous code cell, you'll be implementing a function for preprocessing.  This time, you'll implement the `one_hot_encode` function. The input, `x`, are a list of labels.  Implement the function to return the list of labels as One-Hot encoded Numpy array.  The possible values for labels are 0 to 9. The one-hot encoding function should return the same encoding for each value between each call to `one_hot_encode`.  Make sure to save the map of encodings outside the function.\n",
    "\n",
    "Hint: Don't reinvent the wheel."
   ]
  },
  {
   "cell_type": "code",
   "execution_count": 7,
   "metadata": {
    "collapsed": false,
    "deletable": true,
    "editable": true
   },
   "outputs": [
    {
     "name": "stdout",
     "output_type": "stream",
     "text": [
      "Tests Passed\n"
     ]
    }
   ],
   "source": [
    "from sklearn.preprocessing import LabelBinarizer\n",
    "\n",
    "def one_hot_encode(x):\n",
    "    \"\"\"\n",
    "    One hot encode a list of sample labels. Return a one-hot encoded vector for each label.\n",
    "    : x: List of sample Labels\n",
    "    : return: Numpy array of one-hot encoded labels\n",
    "    \"\"\"\n",
    "    one_hot = LabelBinarizer()\n",
    "    one_hot.fit(range(10))\n",
    "    return one_hot.transform(x)\n",
    "\n",
    "\n",
    "\"\"\"\n",
    "DON'T MODIFY ANYTHING IN THIS CELL THAT IS BELOW THIS LINE\n",
    "\"\"\"\n",
    "tests.test_one_hot_encode(one_hot_encode)"
   ]
  },
  {
   "cell_type": "markdown",
   "metadata": {
    "deletable": true,
    "editable": true
   },
   "source": [
    "### Randomize Data\n",
    "As you saw from exploring the data above, the order of the samples are randomized.  It doesn't hurt to randomize it again, but you don't need to for this dataset."
   ]
  },
  {
   "cell_type": "markdown",
   "metadata": {
    "deletable": true,
    "editable": true
   },
   "source": [
    "## Preprocess all the data and save it\n",
    "Running the code cell below will preprocess all the CIFAR-10 data and save it to file. The code below also uses 10% of the training data for validation."
   ]
  },
  {
   "cell_type": "code",
   "execution_count": 8,
   "metadata": {
    "collapsed": false,
    "deletable": true,
    "editable": true
   },
   "outputs": [],
   "source": [
    "\"\"\"\n",
    "DON'T MODIFY ANYTHING IN THIS CELL\n",
    "\"\"\"\n",
    "# Preprocess Training, Validation, and Testing Data\n",
    "helper.preprocess_and_save_data(cifar10_dataset_folder_path, normalize, one_hot_encode)"
   ]
  },
  {
   "cell_type": "markdown",
   "metadata": {
    "deletable": true,
    "editable": true
   },
   "source": [
    "# Check Point\n",
    "This is your first checkpoint.  If you ever decide to come back to this notebook or have to restart the notebook, you can start from here.  The preprocessed data has been saved to disk."
   ]
  },
  {
   "cell_type": "code",
   "execution_count": 9,
   "metadata": {
    "collapsed": true,
    "deletable": true,
    "editable": true
   },
   "outputs": [],
   "source": [
    "\"\"\"\n",
    "DON'T MODIFY ANYTHING IN THIS CELL\n",
    "\"\"\"\n",
    "import pickle\n",
    "import problem_unittests as tests\n",
    "import helper\n",
    "\n",
    "# Load the Preprocessed Validation data\n",
    "valid_features, valid_labels = pickle.load(open('preprocess_validation.p', mode='rb'))"
   ]
  },
  {
   "cell_type": "markdown",
   "metadata": {
    "deletable": true,
    "editable": true
   },
   "source": [
    "## Build the network\n",
    "For the neural network, you'll build each layer into a function.  Most of the code you've seen has been outside of functions. To test your code more thoroughly, we require that you put each layer in a function.  This allows us to give you better feedback and test for simple mistakes using our unittests before you submit your project.\n",
    "\n",
    "If you're finding it hard to dedicate enough time for this course a week, we've provided a small shortcut to this part of the project. In the next couple of problems, you'll have the option to use [TensorFlow Layers](https://www.tensorflow.org/api_docs/python/tf/layers) or [TensorFlow Layers (contrib)](https://www.tensorflow.org/api_guides/python/contrib.layers) to build each layer, except \"Convolutional & Max Pooling\" layer.  TF Layers is similar to Keras's and TFLearn's abstraction to layers, so it's easy to pickup.\n",
    "\n",
    "If you would like to get the most of this course, try to solve all the problems without TF Layers.  Let's begin!\n",
    "### Input\n",
    "The neural network needs to read the image data, one-hot encoded labels, and dropout keep probability. Implement the following functions\n",
    "* Implement `neural_net_image_input`\n",
    " * Return a [TF Placeholder](https://www.tensorflow.org/api_docs/python/tf/placeholder)\n",
    " * Set the shape using `image_shape` with batch size set to `None`.\n",
    " * Name the TensorFlow placeholder \"x\" using the TensorFlow `name` parameter in the [TF Placeholder](https://www.tensorflow.org/api_docs/python/tf/placeholder).\n",
    "* Implement `neural_net_label_input`\n",
    " * Return a [TF Placeholder](https://www.tensorflow.org/api_docs/python/tf/placeholder)\n",
    " * Set the shape using `n_classes` with batch size set to `None`.\n",
    " * Name the TensorFlow placeholder \"y\" using the TensorFlow `name` parameter in the [TF Placeholder](https://www.tensorflow.org/api_docs/python/tf/placeholder).\n",
    "* Implement `neural_net_keep_prob_input`\n",
    " * Return a [TF Placeholder](https://www.tensorflow.org/api_docs/python/tf/placeholder) for dropout keep probability.\n",
    " * Name the TensorFlow placeholder \"keep_prob\" using the TensorFlow `name` parameter in the [TF Placeholder](https://www.tensorflow.org/api_docs/python/tf/placeholder).\n",
    "\n",
    "These names will be used at the end of the project to load your saved model.\n",
    "\n",
    "Note: `None` for shapes in TensorFlow allow for a dynamic size."
   ]
  },
  {
   "cell_type": "code",
   "execution_count": 10,
   "metadata": {
    "collapsed": false,
    "deletable": true,
    "editable": true
   },
   "outputs": [
    {
     "name": "stdout",
     "output_type": "stream",
     "text": [
      "Image Input Tests Passed.\n",
      "Label Input Tests Passed.\n",
      "Keep Prob Tests Passed.\n"
     ]
    }
   ],
   "source": [
    "import tensorflow as tf\n",
    "\n",
    "def neural_net_image_input(image_shape):\n",
    "    \"\"\"\n",
    "    Return a Tensor for a bach of image input\n",
    "    : image_shape: Shape of the images\n",
    "    : return: Tensor for image input.\n",
    "    \"\"\"\n",
    "    input_shape    = (None, *image_shape)\n",
    "    input_features = tf.placeholder(tf.float32, shape=input_shape, name='x')\n",
    "    return input_features\n",
    "\n",
    "\n",
    "def neural_net_label_input(n_classes):\n",
    "    \"\"\"\n",
    "    Return a Tensor for a batch of label input\n",
    "    : n_classes: Number of classes\n",
    "    : return: Tensor for label input.\n",
    "    \"\"\"\n",
    "    return tf.placeholder(tf.float32, shape=(None, n_classes), name='y')\n",
    "\n",
    "\n",
    "def neural_net_keep_prob_input():\n",
    "    \"\"\"\n",
    "    Return a Tensor for keep probability\n",
    "    : return: Tensor for keep probability.\n",
    "    \"\"\"\n",
    "    return tf.placeholder(tf.float32, name='keep_prob') \n",
    "\n",
    "\n",
    "\"\"\"\n",
    "DON'T MODIFY ANYTHING IN THIS CELL THAT IS BELOW THIS LINE\n",
    "\"\"\"\n",
    "tf.reset_default_graph()\n",
    "tests.test_nn_image_inputs(neural_net_image_input)\n",
    "tests.test_nn_label_inputs(neural_net_label_input)\n",
    "tests.test_nn_keep_prob_inputs(neural_net_keep_prob_input)"
   ]
  },
  {
   "cell_type": "markdown",
   "metadata": {
    "deletable": true,
    "editable": true
   },
   "source": [
    "### Convolution and Max Pooling Layer\n",
    "Convolution layers have a lot of success with images. For this code cell, you should implement the function `conv2d_maxpool` to apply convolution then max pooling:\n",
    "* Create the weight and bias using `conv_ksize`, `conv_num_outputs` and the shape of `x_tensor`.\n",
    "* Apply a convolution to `x_tensor` using weight and `conv_strides`.\n",
    " * We recommend you use same padding, but you're welcome to use any padding.\n",
    "* Add bias\n",
    "* Add a nonlinear activation to the convolution.\n",
    "* Apply Max Pooling using `pool_ksize` and `pool_strides`.\n",
    " * We recommend you use same padding, but you're welcome to use any padding.\n",
    "\n",
    "Note: You **can't** use [TensorFlow Layers](https://www.tensorflow.org/api_docs/python/tf/layers) or [TensorFlow Layers (contrib)](https://www.tensorflow.org/api_guides/python/contrib.layers) for this layer.  You're free to use any TensorFlow package for all the other layers."
   ]
  },
  {
   "cell_type": "code",
   "execution_count": 11,
   "metadata": {
    "collapsed": false,
    "deletable": true,
    "editable": true
   },
   "outputs": [
    {
     "name": "stdout",
     "output_type": "stream",
     "text": [
      "Tests Passed\n"
     ]
    }
   ],
   "source": [
    "def conv2d_maxpool(x_tensor, conv_num_outputs, conv_ksize, conv_strides, pool_ksize, pool_strides):\n",
    "    \"\"\"\n",
    "    Apply convolution then max pooling to x_tensor\n",
    "    :param x_tensor: TensorFlow Tensor\n",
    "    :param conv_num_outputs: Number of outputs for the convolutional layer\n",
    "    :param conv_strides: Stride 2-D Tuple for convolution\n",
    "    :param pool_ksize: kernal size 2-D Tuple for pool\n",
    "    :param pool_strides: Stride 2-D Tuple for pool\n",
    "    : return: A tensor that represents convolution and max pooling of x_tensor\n",
    "    \"\"\"\n",
    "    weights_shape = (*conv_ksize, int(x_tensor.shape[-1]), conv_num_outputs)\n",
    "    weights       = tf.Variable(tf.truncated_normal(weights_shape, stddev=0.1))\n",
    "    \n",
    "    bias = tf.Variable(tf.zeros(conv_num_outputs))\n",
    "    \n",
    "    padded_conv_strides = (1, *conv_strides, 1)\n",
    "    conv2d = tf.nn.conv2d(input=x_tensor, \n",
    "                          filter=weights, \n",
    "                          strides=padded_conv_strides, \n",
    "                          padding='SAME') \n",
    "    \n",
    "    conv2d += bias\n",
    "\n",
    "    conv2d = tf.nn.relu(conv2d)\n",
    "    \n",
    "    padded_mp_ksize = (1, *pool_ksize, 1)\n",
    "    mp_strides      = (1, *pool_strides, 1)\n",
    "    mp_2d           = tf.nn.max_pool(value=conv2d, \n",
    "                                     ksize=padded_mp_ksize,\n",
    "                                     strides=mp_strides, \n",
    "                                     padding='SAME')\n",
    "    \n",
    "    return mp_2d\n",
    "\n",
    "\"\"\"\n",
    "DON'T MODIFY ANYTHING IN THIS CELL THAT IS BELOW THIS LINE\n",
    "\"\"\"\n",
    "tests.test_con_pool(conv2d_maxpool)"
   ]
  },
  {
   "cell_type": "markdown",
   "metadata": {
    "deletable": true,
    "editable": true
   },
   "source": [
    "### Flatten Layer\n",
    "Implement the `flatten` function to change the dimension of `x_tensor` from a 4-D tensor to a 2-D tensor.  The output should be the shape (*Batch Size*, *Flattened Image Size*). You can use [TensorFlow Layers](https://www.tensorflow.org/api_docs/python/tf/layers) or [TensorFlow Layers (contrib)](https://www.tensorflow.org/api_guides/python/contrib.layers) for this layer."
   ]
  },
  {
   "cell_type": "code",
   "execution_count": 12,
   "metadata": {
    "collapsed": false,
    "deletable": true,
    "editable": true
   },
   "outputs": [
    {
     "name": "stdout",
     "output_type": "stream",
     "text": [
      "Tests Passed\n"
     ]
    }
   ],
   "source": [
    "def flatten(x_tensor):\n",
    "    \"\"\"\n",
    "    Flatten x_tensor to (Batch Size, Flattened Image Size)\n",
    "    : x_tensor: A tensor of size (Batch Size, ...), where ... are the image dimensions.\n",
    "    : return: A tensor of size (Batch Size, Flattened Image Size).\n",
    "    \"\"\"\n",
    "    return tf.contrib.layers.flatten(inputs=x_tensor)\n",
    "\n",
    "\n",
    "\"\"\"\n",
    "DON'T MODIFY ANYTHING IN THIS CELL THAT IS BELOW THIS LINE\n",
    "\"\"\"\n",
    "tests.test_flatten(flatten)"
   ]
  },
  {
   "cell_type": "markdown",
   "metadata": {
    "deletable": true,
    "editable": true
   },
   "source": [
    "### Fully-Connected Layer\n",
    "Implement the `fully_conn` function to apply a fully connected layer to `x_tensor` with the shape (*Batch Size*, *num_outputs*). You can use [TensorFlow Layers](https://www.tensorflow.org/api_docs/python/tf/layers) or [TensorFlow Layers (contrib)](https://www.tensorflow.org/api_guides/python/contrib.layers) for this layer."
   ]
  },
  {
   "cell_type": "code",
   "execution_count": 13,
   "metadata": {
    "collapsed": false,
    "deletable": true,
    "editable": true
   },
   "outputs": [
    {
     "name": "stdout",
     "output_type": "stream",
     "text": [
      "Tests Passed\n"
     ]
    }
   ],
   "source": [
    "def fully_conn(x_tensor, num_outputs):\n",
    "    \"\"\"\n",
    "    Apply a fully connected layer to x_tensor using weight and bias\n",
    "    : x_tensor: A 2-D tensor where the first dimension is batch size.\n",
    "    : num_outputs: The number of output that the new tensor should be.\n",
    "    : return: A 2-D tensor where the second dimension is num_outputs.\n",
    "    \"\"\"\n",
    "    return tf.contrib.layers.fully_connected(inputs=x_tensor, \n",
    "                                             num_outputs=num_outputs,\n",
    "                                             activation_fn=tf.nn.relu)\n",
    "\n",
    "\n",
    "\"\"\"\n",
    "DON'T MODIFY ANYTHING IN THIS CELL THAT IS BELOW THIS LINE\n",
    "\"\"\"\n",
    "tests.test_fully_conn(fully_conn)"
   ]
  },
  {
   "cell_type": "markdown",
   "metadata": {
    "deletable": true,
    "editable": true
   },
   "source": [
    "### Output Layer\n",
    "Implement the `output` function to apply a fully connected layer to `x_tensor` with the shape (*Batch Size*, *num_outputs*). You can use [TensorFlow Layers](https://www.tensorflow.org/api_docs/python/tf/layers) or [TensorFlow Layers (contrib)](https://www.tensorflow.org/api_guides/python/contrib.layers) for this layer.\n",
    "\n",
    "Note: Activation, softmax, or cross entropy shouldn't be applied to this."
   ]
  },
  {
   "cell_type": "code",
   "execution_count": 14,
   "metadata": {
    "collapsed": false,
    "deletable": true,
    "editable": true
   },
   "outputs": [
    {
     "name": "stdout",
     "output_type": "stream",
     "text": [
      "Tests Passed\n"
     ]
    }
   ],
   "source": [
    "def output(x_tensor, num_outputs):\n",
    "    \"\"\"\n",
    "    Apply a output layer to x_tensor using weight and bias\n",
    "    : x_tensor: A 2-D tensor where the first dimension is batch size.\n",
    "    : num_outputs: The number of output that the new tensor should be.\n",
    "    : return: A 2-D tensor where the second dimension is num_outputs.\n",
    "    \"\"\"\n",
    "    return tf.contrib.layers.fully_connected(inputs=x_tensor, \n",
    "                                             num_outputs=num_outputs,\n",
    "                                             activation_fn=None)\n",
    "\n",
    "\"\"\"\n",
    "DON'T MODIFY ANYTHING IN THIS CELL THAT IS BELOW THIS LINE\n",
    "\"\"\"\n",
    "tests.test_output(output)"
   ]
  },
  {
   "cell_type": "markdown",
   "metadata": {
    "deletable": true,
    "editable": true
   },
   "source": [
    "### Create Convolutional Model\n",
    "Implement the function `conv_net` to create a convolutional neural network model. The function takes in a batch of images, `x`, and outputs logits.  Use the layers you created above to create this model:\n",
    "\n",
    "* Apply 1, 2, or 3 Convolution and Max Pool layers\n",
    "* Apply a Flatten Layer\n",
    "* Apply 1, 2, or 3 Fully Connected Layers\n",
    "* Apply an Output Layer\n",
    "* Return the output\n",
    "* Apply [TensorFlow's Dropout](https://www.tensorflow.org/api_docs/python/tf/nn/dropout) to one or more layers in the model using `keep_prob`. "
   ]
  },
  {
   "cell_type": "code",
   "execution_count": 15,
   "metadata": {
    "collapsed": false,
    "deletable": true,
    "editable": true
   },
   "outputs": [
    {
     "name": "stdout",
     "output_type": "stream",
     "text": [
      "Neural Network Built!\n"
     ]
    }
   ],
   "source": [
    "def conv_net(x, keep_prob):\n",
    "    \"\"\"\n",
    "    Create a convolutional neural network model\n",
    "    : x: Placeholder tensor that holds image data.\n",
    "    : keep_prob: Placeholder tensor that hold dropout keep probability.\n",
    "    : return: Tensor that represents logits\n",
    "    \"\"\"\n",
    "    conv_num_outputs = 32\n",
    "    conv_ksize       = (3, 3)\n",
    "    conv_strides     = (1, 1)\n",
    "    mp_ksize         = (2, 2)\n",
    "    mp_strides       = (2, 2)\n",
    "    # Apply 1, 2, or 3 Convolution and Max Pool layers\n",
    "    #    Play around with different number of outputs, kernel size and stride\n",
    "    # Function Definition from Above:\n",
    "    #    conv2d_maxpool(x_tensor, conv_num_outputs, conv_ksize, \n",
    "    #                   conv_strides, pool_ksize, pool_strides)\n",
    "    x = conv2d_maxpool(x, conv_num_outputs, conv_ksize, conv_strides,\n",
    "                          mp_ksize, mp_strides)\n",
    "    x = conv2d_maxpool(x, conv_num_outputs, conv_ksize, conv_strides,\n",
    "                          mp_ksize, mp_strides)\n",
    "    x = conv2d_maxpool(x, conv_num_outputs, conv_ksize, conv_strides,\n",
    "                          mp_ksize, mp_strides)\n",
    "\n",
    "    # Apply a Flatten Layer\n",
    "    # Function Definition from Above:\n",
    "    x = flatten(x)\n",
    "    \n",
    "    # Apply 1, 2, or 3 Fully Connected Layers\n",
    "    #    Play around with different number of outputs\n",
    "    # Function Definition from Above:\n",
    "    x = fully_conn(x_tensor=x, num_outputs=512)\n",
    "    x = fully_conn(x_tensor=x, num_outputs=512)\n",
    "    # Usually apply dropout after FCN\n",
    "    x = tf.nn.dropout(x, keep_prob)\n",
    "    \n",
    "    # Apply an Output Layer\n",
    "    #    Set this to the number of classes\n",
    "    # Function Definition from Above:\n",
    "    final_output = output(x_tensor=x, num_outputs=10)\n",
    "    \n",
    "    return final_output\n",
    "\n",
    "\"\"\"\n",
    "DON'T MODIFY ANYTHING IN THIS CELL THAT IS BELOW THIS LINE\n",
    "\"\"\"\n",
    "\n",
    "##############################\n",
    "## Build the Neural Network ##\n",
    "##############################\n",
    "\n",
    "# Remove previous weights, bias, inputs, etc..\n",
    "tf.reset_default_graph()\n",
    "\n",
    "# Inputs\n",
    "x = neural_net_image_input((32, 32, 3))\n",
    "y = neural_net_label_input(10)\n",
    "keep_prob = neural_net_keep_prob_input()\n",
    "\n",
    "# Model\n",
    "logits = conv_net(x, keep_prob)\n",
    "\n",
    "# Name logits Tensor, so that is can be loaded from disk after training\n",
    "logits = tf.identity(logits, name='logits')\n",
    "\n",
    "# Loss and Optimizer\n",
    "cost = tf.reduce_mean(tf.nn.softmax_cross_entropy_with_logits(logits=logits, labels=y))\n",
    "optimizer = tf.train.AdamOptimizer().minimize(cost)\n",
    "\n",
    "# Accuracy\n",
    "correct_pred = tf.equal(tf.argmax(logits, 1), tf.argmax(y, 1))\n",
    "accuracy = tf.reduce_mean(tf.cast(correct_pred, tf.float32), name='accuracy')\n",
    "\n",
    "tests.test_conv_net(conv_net)"
   ]
  },
  {
   "cell_type": "markdown",
   "metadata": {
    "deletable": true,
    "editable": true
   },
   "source": [
    "## Train the Neural Network\n",
    "### Single Optimization\n",
    "Implement the function `train_neural_network` to do a single optimization.  The optimization should use `optimizer` to optimize in `session` with a `feed_dict` of the following:\n",
    "* `x` for image input\n",
    "* `y` for labels\n",
    "* `keep_prob` for keep probability for dropout\n",
    "\n",
    "This function will be called for each batch, so `tf.global_variables_initializer()` has already been called.\n",
    "\n",
    "Note: Nothing needs to be returned. This function is only optimizing the neural network."
   ]
  },
  {
   "cell_type": "code",
   "execution_count": 16,
   "metadata": {
    "collapsed": false,
    "deletable": true,
    "editable": true
   },
   "outputs": [
    {
     "name": "stdout",
     "output_type": "stream",
     "text": [
      "Tests Passed\n"
     ]
    }
   ],
   "source": [
    "def train_neural_network(session, optimizer, keep_probability, feature_batch, label_batch):\n",
    "    \"\"\"\n",
    "    Optimize the session on a batch of images and labels\n",
    "    : session: Current TensorFlow session\n",
    "    : optimizer: TensorFlow optimizer function\n",
    "    : keep_probability: keep probability\n",
    "    : feature_batch: Batch of Numpy image data\n",
    "    : label_batch: Batch of Numpy label data\n",
    "    \"\"\"\n",
    "    session.run(optimizer, feed_dict={\n",
    "        x: feature_batch,\n",
    "        y: label_batch,\n",
    "        keep_prob: keep_probability\n",
    "    })\n",
    "    return optimizer\n",
    "\n",
    "\n",
    "\"\"\"\n",
    "DON'T MODIFY ANYTHING IN THIS CELL THAT IS BELOW THIS LINE\n",
    "\"\"\"\n",
    "tests.test_train_nn(train_neural_network)"
   ]
  },
  {
   "cell_type": "markdown",
   "metadata": {
    "deletable": true,
    "editable": true
   },
   "source": [
    "### Show Stats\n",
    "Implement the function `print_stats` to print loss and validation accuracy.  Use the global variables `valid_features` and `valid_labels` to calculate validation accuracy.  Use a keep probability of `1.0` to calculate the loss and validation accuracy."
   ]
  },
  {
   "cell_type": "code",
   "execution_count": 17,
   "metadata": {
    "collapsed": false,
    "deletable": true,
    "editable": true
   },
   "outputs": [],
   "source": [
    "def print_stats(session, feature_batch, label_batch, cost, accuracy):\n",
    "    \"\"\"\n",
    "    Print information about loss and validation accuracy\n",
    "    : session: Current TensorFlow session\n",
    "    : feature_batch: Batch of Numpy image data\n",
    "    : label_batch: Batch of Numpy label data\n",
    "    : cost: TensorFlow cost function\n",
    "    : accuracy: TensorFlow accuracy function\n",
    "    \"\"\"\n",
    "    loss = sess.run(cost, feed_dict={ x: feature_batch,\n",
    "                                      y: label_batch,\n",
    "                                      keep_prob: 1.0 })\n",
    "    \n",
    "    valid_acc = sess.run(accuracy, feed_dict={ x: valid_features,\n",
    "                                               y: valid_labels,\n",
    "                                               keep_prob: 1.0 })\n",
    "    \n",
    "    print('Loss: {:>10.4f} Validation Accuracy: {:.6%}'.format(loss, valid_acc))"
   ]
  },
  {
   "cell_type": "markdown",
   "metadata": {
    "deletable": true,
    "editable": true
   },
   "source": [
    "### Hyperparameters\n",
    "Tune the following parameters:\n",
    "* Set `epochs` to the number of iterations until the network stops learning or start overfitting\n",
    "* Set `batch_size` to the highest number that your machine has memory for.  Most people set them to common sizes of memory:\n",
    " * 64\n",
    " * 128\n",
    " * 256\n",
    " * ...\n",
    "* Set `keep_probability` to the probability of keeping a node using dropout"
   ]
  },
  {
   "cell_type": "code",
   "execution_count": 18,
   "metadata": {
    "collapsed": true,
    "deletable": true,
    "editable": true
   },
   "outputs": [],
   "source": [
    "# TODO: Tune Parameters\n",
    "epochs           = 25\n",
    "batch_size       = 1024\n",
    "keep_probability = 0.5"
   ]
  },
  {
   "cell_type": "markdown",
   "metadata": {
    "deletable": true,
    "editable": true
   },
   "source": [
    "### Train on a Single CIFAR-10 Batch\n",
    "Instead of training the neural network on all the CIFAR-10 batches of data, let's use a single batch. This should save time while you iterate on the model to get a better accuracy.  Once the final validation accuracy is 50% or greater, run the model on all the data in the next section."
   ]
  },
  {
   "cell_type": "code",
   "execution_count": 19,
   "metadata": {
    "collapsed": false,
    "deletable": true,
    "editable": true
   },
   "outputs": [
    {
     "name": "stdout",
     "output_type": "stream",
     "text": [
      "Checking the Training on a Single Batch...\n",
      "Epoch  1, CIFAR-10 Batch 1:  Loss:     2.0683 Validation Accuracy: 26.199999%\n",
      "Epoch  2, CIFAR-10 Batch 1:  Loss:     1.8687 Validation Accuracy: 35.219997%\n",
      "Epoch  3, CIFAR-10 Batch 1:  Loss:     1.7247 Validation Accuracy: 38.739994%\n",
      "Epoch  4, CIFAR-10 Batch 1:  Loss:     1.6437 Validation Accuracy: 39.499998%\n",
      "Epoch  5, CIFAR-10 Batch 1:  Loss:     1.5249 Validation Accuracy: 44.719997%\n",
      "Epoch  6, CIFAR-10 Batch 1:  Loss:     1.4669 Validation Accuracy: 45.619997%\n",
      "Epoch  7, CIFAR-10 Batch 1:  Loss:     1.3962 Validation Accuracy: 47.359997%\n",
      "Epoch  8, CIFAR-10 Batch 1:  Loss:     1.3671 Validation Accuracy: 48.139995%\n",
      "Epoch  9, CIFAR-10 Batch 1:  Loss:     1.2994 Validation Accuracy: 49.719995%\n",
      "Epoch 10, CIFAR-10 Batch 1:  Loss:     1.2426 Validation Accuracy: 51.179993%\n",
      "Epoch 11, CIFAR-10 Batch 1:  Loss:     1.2042 Validation Accuracy: 52.299994%\n",
      "Epoch 12, CIFAR-10 Batch 1:  Loss:     1.1671 Validation Accuracy: 52.539998%\n",
      "Epoch 13, CIFAR-10 Batch 1:  Loss:     1.1354 Validation Accuracy: 52.739996%\n",
      "Epoch 14, CIFAR-10 Batch 1:  Loss:     1.1250 Validation Accuracy: 52.659994%\n",
      "Epoch 15, CIFAR-10 Batch 1:  Loss:     1.1035 Validation Accuracy: 52.779996%\n",
      "Epoch 16, CIFAR-10 Batch 1:  Loss:     1.0441 Validation Accuracy: 55.019993%\n",
      "Epoch 17, CIFAR-10 Batch 1:  Loss:     1.0021 Validation Accuracy: 55.439997%\n",
      "Epoch 18, CIFAR-10 Batch 1:  Loss:     0.9628 Validation Accuracy: 56.619996%\n",
      "Epoch 19, CIFAR-10 Batch 1:  Loss:     0.9504 Validation Accuracy: 55.859995%\n",
      "Epoch 20, CIFAR-10 Batch 1:  Loss:     0.9561 Validation Accuracy: 54.999995%\n",
      "Epoch 21, CIFAR-10 Batch 1:  Loss:     0.8866 Validation Accuracy: 57.079995%\n",
      "Epoch 22, CIFAR-10 Batch 1:  Loss:     0.8820 Validation Accuracy: 57.179987%\n",
      "Epoch 23, CIFAR-10 Batch 1:  Loss:     0.8971 Validation Accuracy: 55.339992%\n",
      "Epoch 24, CIFAR-10 Batch 1:  Loss:     0.8047 Validation Accuracy: 58.239990%\n",
      "Epoch 25, CIFAR-10 Batch 1:  Loss:     0.7817 Validation Accuracy: 58.279991%\n"
     ]
    }
   ],
   "source": [
    "\"\"\"\n",
    "DON'T MODIFY ANYTHING IN THIS CELL\n",
    "\"\"\"\n",
    "print('Checking the Training on a Single Batch...')\n",
    "with tf.Session() as sess:\n",
    "    # Initializing the variables\n",
    "    sess.run(tf.global_variables_initializer())\n",
    "    \n",
    "    # Training cycle\n",
    "    for epoch in range(epochs):\n",
    "        batch_i = 1\n",
    "        for batch_features, batch_labels in helper.load_preprocess_training_batch(batch_i, batch_size):\n",
    "            train_neural_network(sess, optimizer, keep_probability, batch_features, batch_labels)\n",
    "        print('Epoch {:>2}, CIFAR-10 Batch {}:  '.format(epoch + 1, batch_i), end='')\n",
    "        print_stats(sess, batch_features, batch_labels, cost, accuracy)"
   ]
  },
  {
   "cell_type": "markdown",
   "metadata": {
    "deletable": true,
    "editable": true
   },
   "source": [
    "### Fully Train the Model\n",
    "Now that you got a good accuracy with a single CIFAR-10 batch, try it with all five batches."
   ]
  },
  {
   "cell_type": "code",
   "execution_count": 20,
   "metadata": {
    "collapsed": false,
    "deletable": true,
    "editable": true
   },
   "outputs": [
    {
     "name": "stdout",
     "output_type": "stream",
     "text": [
      "Training...\n",
      "Epoch  1, CIFAR-10 Batch 1:  Loss:     2.1844 Validation Accuracy: 26.220000%\n",
      "Epoch  1, CIFAR-10 Batch 2:  Loss:     1.9378 Validation Accuracy: 31.459999%\n",
      "Epoch  1, CIFAR-10 Batch 3:  Loss:     1.8114 Validation Accuracy: 33.299997%\n",
      "Epoch  1, CIFAR-10 Batch 4:  Loss:     1.6988 Validation Accuracy: 39.039996%\n",
      "Epoch  1, CIFAR-10 Batch 5:  Loss:     1.6333 Validation Accuracy: 40.759999%\n",
      "Epoch  2, CIFAR-10 Batch 1:  Loss:     1.5946 Validation Accuracy: 42.419997%\n",
      "Epoch  2, CIFAR-10 Batch 2:  Loss:     1.5603 Validation Accuracy: 42.779994%\n",
      "Epoch  2, CIFAR-10 Batch 3:  Loss:     1.4296 Validation Accuracy: 45.399997%\n",
      "Epoch  2, CIFAR-10 Batch 4:  Loss:     1.3939 Validation Accuracy: 48.899996%\n",
      "Epoch  2, CIFAR-10 Batch 5:  Loss:     1.3827 Validation Accuracy: 49.019992%\n",
      "Epoch  3, CIFAR-10 Batch 1:  Loss:     1.3618 Validation Accuracy: 49.559996%\n",
      "Epoch  3, CIFAR-10 Batch 2:  Loss:     1.3988 Validation Accuracy: 47.839993%\n",
      "Epoch  3, CIFAR-10 Batch 3:  Loss:     1.2811 Validation Accuracy: 50.599998%\n",
      "Epoch  3, CIFAR-10 Batch 4:  Loss:     1.2859 Validation Accuracy: 51.879996%\n",
      "Epoch  3, CIFAR-10 Batch 5:  Loss:     1.2686 Validation Accuracy: 52.319992%\n",
      "Epoch  4, CIFAR-10 Batch 1:  Loss:     1.2779 Validation Accuracy: 52.239990%\n",
      "Epoch  4, CIFAR-10 Batch 2:  Loss:     1.2588 Validation Accuracy: 52.879995%\n",
      "Epoch  4, CIFAR-10 Batch 3:  Loss:     1.2151 Validation Accuracy: 53.519994%\n",
      "Epoch  4, CIFAR-10 Batch 4:  Loss:     1.2082 Validation Accuracy: 54.039991%\n",
      "Epoch  4, CIFAR-10 Batch 5:  Loss:     1.1627 Validation Accuracy: 55.679995%\n",
      "Epoch  5, CIFAR-10 Batch 1:  Loss:     1.1653 Validation Accuracy: 55.019993%\n",
      "Epoch  5, CIFAR-10 Batch 2:  Loss:     1.1733 Validation Accuracy: 55.599993%\n",
      "Epoch  5, CIFAR-10 Batch 3:  Loss:     1.1182 Validation Accuracy: 55.419987%\n",
      "Epoch  5, CIFAR-10 Batch 4:  Loss:     1.1243 Validation Accuracy: 56.759995%\n",
      "Epoch  5, CIFAR-10 Batch 5:  Loss:     1.1129 Validation Accuracy: 56.699991%\n",
      "Epoch  6, CIFAR-10 Batch 1:  Loss:     1.0891 Validation Accuracy: 57.099992%\n",
      "Epoch  6, CIFAR-10 Batch 2:  Loss:     1.1214 Validation Accuracy: 57.359993%\n",
      "Epoch  6, CIFAR-10 Batch 3:  Loss:     1.0572 Validation Accuracy: 57.499993%\n",
      "Epoch  6, CIFAR-10 Batch 4:  Loss:     1.0791 Validation Accuracy: 57.919991%\n",
      "Epoch  6, CIFAR-10 Batch 5:  Loss:     1.0039 Validation Accuracy: 59.699988%\n",
      "Epoch  7, CIFAR-10 Batch 1:  Loss:     1.0220 Validation Accuracy: 59.179991%\n",
      "Epoch  7, CIFAR-10 Batch 2:  Loss:     1.0331 Validation Accuracy: 60.019994%\n",
      "Epoch  7, CIFAR-10 Batch 3:  Loss:     1.0018 Validation Accuracy: 59.759992%\n",
      "Epoch  7, CIFAR-10 Batch 4:  Loss:     1.0057 Validation Accuracy: 60.439992%\n",
      "Epoch  7, CIFAR-10 Batch 5:  Loss:     0.9535 Validation Accuracy: 61.219990%\n",
      "Epoch  8, CIFAR-10 Batch 1:  Loss:     0.9764 Validation Accuracy: 60.619998%\n",
      "Epoch  8, CIFAR-10 Batch 2:  Loss:     0.9968 Validation Accuracy: 60.239995%\n",
      "Epoch  8, CIFAR-10 Batch 3:  Loss:     0.9553 Validation Accuracy: 61.079985%\n",
      "Epoch  8, CIFAR-10 Batch 4:  Loss:     0.9252 Validation Accuracy: 62.799990%\n",
      "Epoch  8, CIFAR-10 Batch 5:  Loss:     0.8802 Validation Accuracy: 62.499994%\n",
      "Epoch  9, CIFAR-10 Batch 1:  Loss:     0.9151 Validation Accuracy: 62.139994%\n",
      "Epoch  9, CIFAR-10 Batch 2:  Loss:     0.9664 Validation Accuracy: 61.739987%\n",
      "Epoch  9, CIFAR-10 Batch 3:  Loss:     0.8961 Validation Accuracy: 63.019991%\n",
      "Epoch  9, CIFAR-10 Batch 4:  Loss:     0.8715 Validation Accuracy: 63.479990%\n",
      "Epoch  9, CIFAR-10 Batch 5:  Loss:     0.8254 Validation Accuracy: 63.919985%\n",
      "Epoch 10, CIFAR-10 Batch 1:  Loss:     0.8641 Validation Accuracy: 63.259995%\n",
      "Epoch 10, CIFAR-10 Batch 2:  Loss:     0.9438 Validation Accuracy: 61.659992%\n",
      "Epoch 10, CIFAR-10 Batch 3:  Loss:     0.8818 Validation Accuracy: 63.059986%\n",
      "Epoch 10, CIFAR-10 Batch 4:  Loss:     0.8591 Validation Accuracy: 63.839990%\n",
      "Epoch 10, CIFAR-10 Batch 5:  Loss:     0.7807 Validation Accuracy: 64.259982%\n",
      "Epoch 11, CIFAR-10 Batch 1:  Loss:     0.8176 Validation Accuracy: 64.199990%\n",
      "Epoch 11, CIFAR-10 Batch 2:  Loss:     0.8638 Validation Accuracy: 64.559990%\n",
      "Epoch 11, CIFAR-10 Batch 3:  Loss:     0.8107 Validation Accuracy: 64.819992%\n",
      "Epoch 11, CIFAR-10 Batch 4:  Loss:     0.8173 Validation Accuracy: 64.979994%\n",
      "Epoch 11, CIFAR-10 Batch 5:  Loss:     0.7401 Validation Accuracy: 65.379989%\n",
      "Epoch 12, CIFAR-10 Batch 1:  Loss:     0.7814 Validation Accuracy: 64.539993%\n",
      "Epoch 12, CIFAR-10 Batch 2:  Loss:     0.8023 Validation Accuracy: 65.879989%\n",
      "Epoch 12, CIFAR-10 Batch 3:  Loss:     0.7706 Validation Accuracy: 65.979981%\n",
      "Epoch 12, CIFAR-10 Batch 4:  Loss:     0.7701 Validation Accuracy: 65.939987%\n",
      "Epoch 12, CIFAR-10 Batch 5:  Loss:     0.7288 Validation Accuracy: 65.459991%\n",
      "Epoch 13, CIFAR-10 Batch 1:  Loss:     0.7609 Validation Accuracy: 65.179986%\n",
      "Epoch 13, CIFAR-10 Batch 2:  Loss:     0.7542 Validation Accuracy: 66.999984%\n",
      "Epoch 13, CIFAR-10 Batch 3:  Loss:     0.7357 Validation Accuracy: 66.559988%\n",
      "Epoch 13, CIFAR-10 Batch 4:  Loss:     0.7215 Validation Accuracy: 67.039984%\n",
      "Epoch 13, CIFAR-10 Batch 5:  Loss:     0.6795 Validation Accuracy: 66.219985%\n",
      "Epoch 14, CIFAR-10 Batch 1:  Loss:     0.7212 Validation Accuracy: 66.259986%\n",
      "Epoch 14, CIFAR-10 Batch 2:  Loss:     0.7619 Validation Accuracy: 66.519988%\n",
      "Epoch 14, CIFAR-10 Batch 3:  Loss:     0.7017 Validation Accuracy: 67.779988%\n",
      "Epoch 14, CIFAR-10 Batch 4:  Loss:     0.6873 Validation Accuracy: 67.699987%\n",
      "Epoch 14, CIFAR-10 Batch 5:  Loss:     0.6265 Validation Accuracy: 67.639989%\n",
      "Epoch 15, CIFAR-10 Batch 1:  Loss:     0.6738 Validation Accuracy: 67.539990%\n",
      "Epoch 15, CIFAR-10 Batch 2:  Loss:     0.7135 Validation Accuracy: 67.319989%\n",
      "Epoch 15, CIFAR-10 Batch 3:  Loss:     0.6672 Validation Accuracy: 68.039989%\n",
      "Epoch 15, CIFAR-10 Batch 4:  Loss:     0.6748 Validation Accuracy: 67.939985%\n",
      "Epoch 15, CIFAR-10 Batch 5:  Loss:     0.6224 Validation Accuracy: 67.019987%\n",
      "Epoch 16, CIFAR-10 Batch 1:  Loss:     0.6668 Validation Accuracy: 67.599988%\n",
      "Epoch 16, CIFAR-10 Batch 2:  Loss:     0.7082 Validation Accuracy: 67.539990%\n",
      "Epoch 16, CIFAR-10 Batch 3:  Loss:     0.6482 Validation Accuracy: 67.519993%\n",
      "Epoch 16, CIFAR-10 Batch 4:  Loss:     0.6364 Validation Accuracy: 68.739986%\n",
      "Epoch 16, CIFAR-10 Batch 5:  Loss:     0.5789 Validation Accuracy: 68.199986%\n",
      "Epoch 17, CIFAR-10 Batch 1:  Loss:     0.6534 Validation Accuracy: 66.619986%\n",
      "Epoch 17, CIFAR-10 Batch 2:  Loss:     0.6641 Validation Accuracy: 68.799990%\n",
      "Epoch 17, CIFAR-10 Batch 3:  Loss:     0.6074 Validation Accuracy: 68.999988%\n",
      "Epoch 17, CIFAR-10 Batch 4:  Loss:     0.5900 Validation Accuracy: 69.219989%\n",
      "Epoch 17, CIFAR-10 Batch 5:  Loss:     0.5332 Validation Accuracy: 68.679982%\n",
      "Epoch 18, CIFAR-10 Batch 1:  Loss:     0.5975 Validation Accuracy: 67.939985%\n",
      "Epoch 18, CIFAR-10 Batch 2:  Loss:     0.6293 Validation Accuracy: 68.939984%\n",
      "Epoch 18, CIFAR-10 Batch 3:  Loss:     0.5839 Validation Accuracy: 68.839985%\n",
      "Epoch 18, CIFAR-10 Batch 4:  Loss:     0.5762 Validation Accuracy: 68.959987%\n",
      "Epoch 18, CIFAR-10 Batch 5:  Loss:     0.4994 Validation Accuracy: 69.679981%\n",
      "Epoch 19, CIFAR-10 Batch 1:  Loss:     0.5689 Validation Accuracy: 68.039989%\n",
      "Epoch 19, CIFAR-10 Batch 2:  Loss:     0.6123 Validation Accuracy: 69.059986%\n",
      "Epoch 19, CIFAR-10 Batch 3:  Loss:     0.5559 Validation Accuracy: 69.099987%\n",
      "Epoch 19, CIFAR-10 Batch 4:  Loss:     0.5480 Validation Accuracy: 69.139987%\n",
      "Epoch 19, CIFAR-10 Batch 5:  Loss:     0.4763 Validation Accuracy: 69.519991%\n",
      "Epoch 20, CIFAR-10 Batch 1:  Loss:     0.5474 Validation Accuracy: 68.239987%\n",
      "Epoch 20, CIFAR-10 Batch 2:  Loss:     0.5612 Validation Accuracy: 70.039988%\n",
      "Epoch 20, CIFAR-10 Batch 3:  Loss:     0.5134 Validation Accuracy: 69.579983%\n",
      "Epoch 20, CIFAR-10 Batch 4:  Loss:     0.5289 Validation Accuracy: 69.339985%\n",
      "Epoch 20, CIFAR-10 Batch 5:  Loss:     0.4583 Validation Accuracy: 69.119984%\n",
      "Epoch 21, CIFAR-10 Batch 1:  Loss:     0.5329 Validation Accuracy: 67.979985%\n",
      "Epoch 21, CIFAR-10 Batch 2:  Loss:     0.5584 Validation Accuracy: 69.359988%\n",
      "Epoch 21, CIFAR-10 Batch 3:  Loss:     0.4972 Validation Accuracy: 69.599986%\n",
      "Epoch 21, CIFAR-10 Batch 4:  Loss:     0.5141 Validation Accuracy: 68.719989%\n",
      "Epoch 21, CIFAR-10 Batch 5:  Loss:     0.4702 Validation Accuracy: 68.119991%\n",
      "Epoch 22, CIFAR-10 Batch 1:  Loss:     0.5508 Validation Accuracy: 66.819990%\n",
      "Epoch 22, CIFAR-10 Batch 2:  Loss:     0.5545 Validation Accuracy: 69.299990%\n",
      "Epoch 22, CIFAR-10 Batch 3:  Loss:     0.4838 Validation Accuracy: 69.819987%\n",
      "Epoch 22, CIFAR-10 Batch 4:  Loss:     0.5064 Validation Accuracy: 68.199986%\n",
      "Epoch 22, CIFAR-10 Batch 5:  Loss:     0.4780 Validation Accuracy: 67.339993%\n",
      "Epoch 23, CIFAR-10 Batch 1:  Loss:     0.5862 Validation Accuracy: 66.899991%\n",
      "Epoch 23, CIFAR-10 Batch 2:  Loss:     0.5616 Validation Accuracy: 68.979985%\n",
      "Epoch 23, CIFAR-10 Batch 3:  Loss:     0.4757 Validation Accuracy: 69.559985%\n",
      "Epoch 23, CIFAR-10 Batch 4:  Loss:     0.4629 Validation Accuracy: 69.359982%\n",
      "Epoch 23, CIFAR-10 Batch 5:  Loss:     0.4426 Validation Accuracy: 68.879986%\n",
      "Epoch 24, CIFAR-10 Batch 1:  Loss:     0.5449 Validation Accuracy: 67.539990%\n",
      "Epoch 24, CIFAR-10 Batch 2:  Loss:     0.5464 Validation Accuracy: 68.659985%\n",
      "Epoch 24, CIFAR-10 Batch 3:  Loss:     0.4662 Validation Accuracy: 69.499987%\n",
      "Epoch 24, CIFAR-10 Batch 4:  Loss:     0.4806 Validation Accuracy: 68.519986%\n",
      "Epoch 24, CIFAR-10 Batch 5:  Loss:     0.4778 Validation Accuracy: 66.679990%\n",
      "Epoch 25, CIFAR-10 Batch 1:  Loss:     0.5483 Validation Accuracy: 67.279989%\n",
      "Epoch 25, CIFAR-10 Batch 2:  Loss:     0.4975 Validation Accuracy: 69.459993%\n",
      "Epoch 25, CIFAR-10 Batch 3:  Loss:     0.4508 Validation Accuracy: 69.959986%\n",
      "Epoch 25, CIFAR-10 Batch 4:  Loss:     0.4609 Validation Accuracy: 68.359989%\n",
      "Epoch 25, CIFAR-10 Batch 5:  Loss:     0.4153 Validation Accuracy: 68.279988%\n"
     ]
    }
   ],
   "source": [
    "\"\"\"\n",
    "DON'T MODIFY ANYTHING IN THIS CELL\n",
    "\"\"\"\n",
    "save_model_path = './image_classification'\n",
    "\n",
    "print('Training...')\n",
    "with tf.Session() as sess:\n",
    "    # Initializing the variables\n",
    "    sess.run(tf.global_variables_initializer())\n",
    "    \n",
    "    # Training cycle\n",
    "    for epoch in range(epochs):\n",
    "        # Loop over all batches\n",
    "        n_batches = 5\n",
    "        for batch_i in range(1, n_batches + 1):\n",
    "            for batch_features, batch_labels in helper.load_preprocess_training_batch(batch_i, batch_size):\n",
    "                train_neural_network(sess, optimizer, keep_probability, batch_features, batch_labels)\n",
    "            print('Epoch {:>2}, CIFAR-10 Batch {}:  '.format(epoch + 1, batch_i), end='')\n",
    "            print_stats(sess, batch_features, batch_labels, cost, accuracy)\n",
    "            \n",
    "    # Save Model\n",
    "    saver = tf.train.Saver()\n",
    "    save_path = saver.save(sess, save_model_path)"
   ]
  },
  {
   "cell_type": "markdown",
   "metadata": {
    "deletable": true,
    "editable": true
   },
   "source": [
    "# Checkpoint\n",
    "The model has been saved to disk.\n",
    "## Test Model\n",
    "Test your model against the test dataset.  This will be your final accuracy. You should have an accuracy greater than 50%. If you don't, keep tweaking the model architecture and parameters."
   ]
  },
  {
   "cell_type": "code",
   "execution_count": 22,
   "metadata": {
    "collapsed": false,
    "deletable": true,
    "editable": true
   },
   "outputs": [
    {
     "name": "stdout",
     "output_type": "stream",
     "text": [
      "Testing Accuracy: 0.6820392191410065\n",
      "\n"
     ]
    },
    {
     "data": {
      "image/png": "[encoded data removed]",
      "text/plain": [
       "<matplotlib.figure.Figure at 0x7f53077dff98>"
      ]
     },
     "metadata": {
      "image/png": {
       "height": 319,
       "width": 355
      }
     },
     "output_type": "display_data"
    }
   ],
   "source": [
    "\"\"\"\n",
    "DON'T MODIFY ANYTHING IN THIS CELL\n",
    "\"\"\"\n",
    "%matplotlib inline\n",
    "%config InlineBackend.figure_format = 'retina'\n",
    "\n",
    "import tensorflow as tf\n",
    "import pickle\n",
    "import helper\n",
    "import random\n",
    "\n",
    "# Set batch size if not already set\n",
    "try:\n",
    "    if batch_size:\n",
    "        pass\n",
    "except NameError:\n",
    "    batch_size = 64\n",
    "\n",
    "save_model_path = './image_classification'\n",
    "n_samples = 4\n",
    "top_n_predictions = 3\n",
    "\n",
    "def test_model():\n",
    "    \"\"\"\n",
    "    Test the saved model against the test dataset\n",
    "    \"\"\"\n",
    "\n",
    "    test_features, test_labels = pickle.load(open('preprocess_training.p', mode='rb'))\n",
    "    loaded_graph = tf.Graph()\n",
    "\n",
    "    with tf.Session(graph=loaded_graph) as sess:\n",
    "        # Load model\n",
    "        loader = tf.train.import_meta_graph(save_model_path + '.meta')\n",
    "        loader.restore(sess, save_model_path)\n",
    "\n",
    "        # Get Tensors from loaded model\n",
    "        loaded_x = loaded_graph.get_tensor_by_name('x:0')\n",
    "        loaded_y = loaded_graph.get_tensor_by_name('y:0')\n",
    "        loaded_keep_prob = loaded_graph.get_tensor_by_name('keep_prob:0')\n",
    "        loaded_logits = loaded_graph.get_tensor_by_name('logits:0')\n",
    "        loaded_acc = loaded_graph.get_tensor_by_name('accuracy:0')\n",
    "        \n",
    "        # Get accuracy in batches for memory limitations\n",
    "        test_batch_acc_total = 0\n",
    "        test_batch_count = 0\n",
    "        \n",
    "        for train_feature_batch, train_label_batch in helper.batch_features_labels(test_features, test_labels, batch_size):\n",
    "            test_batch_acc_total += sess.run(\n",
    "                loaded_acc,\n",
    "                feed_dict={loaded_x: train_feature_batch, loaded_y: train_label_batch, loaded_keep_prob: 1.0})\n",
    "            test_batch_count += 1\n",
    "\n",
    "        print('Testing Accuracy: {}\\n'.format(test_batch_acc_total/test_batch_count))\n",
    "\n",
    "        # Print Random Samples\n",
    "        random_test_features, random_test_labels = tuple(zip(*random.sample(list(zip(test_features, test_labels)), n_samples)))\n",
    "        random_test_predictions = sess.run(\n",
    "            tf.nn.top_k(tf.nn.softmax(loaded_logits), top_n_predictions),\n",
    "            feed_dict={loaded_x: random_test_features, loaded_y: random_test_labels, loaded_keep_prob: 1.0})\n",
    "        helper.display_image_predictions(random_test_features, random_test_labels, random_test_predictions)\n",
    "\n",
    "\n",
    "test_model()"
   ]
  },
  {
   "cell_type": "markdown",
   "metadata": {
    "deletable": true,
    "editable": true
   },
   "source": [
    "## Why 50-70% Accuracy?\n",
    "You might be wondering why you can't get an accuracy any higher. First things first, 50% isn't bad for a simple CNN.  Pure guessing would get you 10% accuracy. However, you might notice people are getting scores [well above 70%](http://rodrigob.github.io/are_we_there_yet/build/classification_datasets_results.html#43494641522d3130).  That's because we haven't taught you all there is to know about neural networks. We still need to cover a few more techniques.\n",
    "## Submitting This Project\n",
    "When submitting this project, make sure to run all the cells before saving the notebook.  Save the notebook file as \"dlnd_image_classification.ipynb\" and save it as a HTML file under \"File\" -> \"Download as\".  Include the \"helper.py\" and \"problem_unittests.py\" files in your submission."
   ]
  },
  {
   "cell_type": "code",
   "execution_count": null,
   "metadata": {
    "collapsed": true
   },
   "outputs": [],
   "source": []
  }
 ],
 "metadata": {
  "kernelspec": {
   "display_name": "Python 3",
   "language": "python",
   "name": "python3"
  },
  "language_info": {
   "codemirror_mode": {
    "name": "ipython",
    "version": 3
   },
   "file_extension": ".py",
   "mimetype": "text/x-python",
   "name": "python",
   "nbconvert_exporter": "python",
   "pygments_lexer": "ipython3",
   "version": "3.5.2"
  },
  "widgets": {
   "state": {},
   "version": "1.1.2"
  }
 },
 "nbformat": 4,
 "nbformat_minor": 0
}
