{
 "cells": [
  {
   "cell_type": "markdown",
   "metadata": {
    "collapsed": true
   },
   "source": [
    "# Image Classification\n",
    "In this project, you'll classify images from the [CIFAR-10 dataset](https://www.cs.toronto.edu/~kriz/cifar.html).  The dataset consists of airplanes, dogs, cats, and other objects. You'll preprocess the images, then train a convolutional neural network on all the samples. The images need to be normalized and the labels need to be one-hot encoded.  You'll get to apply what you learned and build a convolutional, max pooling, dropout, and fully connected layers.  At the end, you'll get to see your neural network's predictions on the sample images.\n",
    "## Get the Data\n",
    "Run the following cell to download the [CIFAR-10 dataset for python](https://www.cs.toronto.edu/~kriz/cifar-10-python.tar.gz)."
   ]
  },
  {
   "cell_type": "code",
   "execution_count": 3,
   "metadata": {
    "collapsed": false
   },
   "outputs": [
    {
     "name": "stderr",
     "output_type": "stream",
     "text": [
      "CIFAR-10 Dataset: 171MB [05:16, 539KB/s]                                \n"
     ]
    },
    {
     "name": "stdout",
     "output_type": "stream",
     "text": [
      "All files found!\n"
     ]
    }
   ],
   "source": [
    "\"\"\"\n",
    "DON'T MODIFY ANYTHING IN THIS CELL THAT IS BELOW THIS LINE\n",
    "\"\"\"\n",
    "from urllib.request import urlretrieve\n",
    "from os.path import isfile, isdir\n",
    "from tqdm import tqdm\n",
    "import problem_unittests as tests\n",
    "import tarfile\n",
    "\n",
    "cifar10_dataset_folder_path = 'cifar-10-batches-py'\n",
    "\n",
    "class DLProgress(tqdm):\n",
    "    last_block = 0\n",
    "\n",
    "    def hook(self, block_num=1, block_size=1, total_size=None):\n",
    "        self.total = total_size\n",
    "        self.update((block_num - self.last_block) * block_size)\n",
    "        self.last_block = block_num\n",
    "\n",
    "if not isfile('cifar-10-python.tar.gz'):\n",
    "    with DLProgress(unit='B', unit_scale=True, miniters=1, desc='CIFAR-10 Dataset') as pbar:\n",
    "        urlretrieve(\n",
    "            'https://www.cs.toronto.edu/~kriz/cifar-10-python.tar.gz',\n",
    "            'cifar-10-python.tar.gz',\n",
    "            pbar.hook)\n",
    "\n",
    "if not isdir(cifar10_dataset_folder_path):\n",
    "    with tarfile.open('cifar-10-python.tar.gz') as tar:\n",
    "        tar.extractall()\n",
    "        tar.close()\n",
    "\n",
    "\n",
    "tests.test_folder_path(cifar10_dataset_folder_path)"
   ]
  },
  {
   "cell_type": "markdown",
   "metadata": {},
   "source": [
    "## Explore the Data\n",
    "The dataset is broken into batches to prevent your machine from running out of memory.  The CIFAR-10 dataset consists of 5 batches, named `data_batch_1`, `data_batch_2`, etc.. Each batch contains the labels and images that are one of the following:\n",
    "* airplane\n",
    "* automobile\n",
    "* bird\n",
    "* cat\n",
    "* deer\n",
    "* dog\n",
    "* frog\n",
    "* horse\n",
    "* ship\n",
    "* truck\n",
    "\n",
    "Understanding a dataset is part of making predictions on the data.  Play around with the code cell below by changing the `batch_id` and `sample_id`. The `batch_id` is the id for a batch (1-5). The `sample_id` is the id for a image and label pair in the batch.\n",
    "\n",
    "Ask yourself \"What are all possible labels?\", \"What is the range of values for the image data?\", \"Are the labels in order or random?\".  Answers to questions like these will help you preprocess the data and end up with better predictions."
   ]
  },
  {
   "cell_type": "code",
   "execution_count": 23,
   "metadata": {
    "collapsed": false
   },
   "outputs": [
    {
     "name": "stdout",
     "output_type": "stream",
     "text": [
      "\n",
      "Stats of batch 4:\n",
      "Samples: 10000\n",
      "Label Counts: {0: 1003, 1: 963, 2: 1041, 3: 976, 4: 1004, 5: 1021, 6: 1004, 7: 981, 8: 1024, 9: 983}\n",
      "First 20 Labels: [0, 6, 0, 2, 7, 2, 1, 2, 4, 1, 5, 6, 6, 3, 1, 3, 5, 5, 8, 1]\n",
      "\n",
      "Example of Image 3:\n",
      "Image - Min Value: 0 Max Value: 248\n",
      "Image - Shape: (32, 32, 3)\n",
      "Label - Label Id: 2 Name: bird\n"
     ]
    },
    {
     "data": {
      "image/png": "[encoded data removed]",
      "text/plain": [
       "<matplotlib.figure.Figure at 0x12a42b198>"
      ]
     },
     "metadata": {
      "image/png": {
       "height": 250,
       "width": 253
      }
     },
     "output_type": "display_data"
    }
   ],
   "source": [
    "%matplotlib inline\n",
    "%config InlineBackend.figure_format = 'retina'\n",
    "\n",
    "import helper\n",
    "import numpy as np\n",
    "\n",
    "# Explore the dataset\n",
    "batch_id  = 4\n",
    "sample_id = 3\n",
    "helper.display_stats(cifar10_dataset_folder_path, batch_id, sample_id)"
   ]
  },
  {
   "cell_type": "markdown",
   "metadata": {},
   "source": [
    "## Implement Preprocess Functions\n",
    "### Normalize\n",
    "In the cell below, implement the `normalize` function to take in image data, `x`, and return it as a normalized Numpy array. The values should be in the range of 0 to 1, inclusive.  The return object should be the same shape as `x`."
   ]
  },
  {
   "cell_type": "code",
   "execution_count": 24,
   "metadata": {
    "collapsed": false
   },
   "outputs": [
    {
     "name": "stdout",
     "output_type": "stream",
     "text": [
      "Tests Passed\n"
     ]
    }
   ],
   "source": [
    "def normalize(x):\n",
    "    \"\"\"\n",
    "    Normalize a list of sample image data in the range of 0 to 1\n",
    "    : x: List of image data.  The image shape is (32, 32, 3)\n",
    "    : return: Numpy array of normalize data\n",
    "    \"\"\"\n",
    "    return np.array(x / 255)\n",
    "\n",
    "\n",
    "\"\"\"\n",
    "DON'T MODIFY ANYTHING IN THIS CELL THAT IS BELOW THIS LINE\n",
    "\"\"\"\n",
    "tests.test_normalize(normalize)"
   ]
  },
  {
   "cell_type": "markdown",
   "metadata": {},
   "source": [
    "### One-hot encode\n",
    "Just like the previous code cell, you'll be implementing a function for preprocessing.  This time, you'll implement the `one_hot_encode` function. The input, `x`, are a list of labels.  Implement the function to return the list of labels as One-Hot encoded Numpy array.  The possible values for labels are 0 to 9. The one-hot encoding function should return the same encoding for each value between each call to `one_hot_encode`.  Make sure to save the map of encodings outside the function.\n",
    "\n",
    "Hint: Don't reinvent the wheel."
   ]
  },
  {
   "cell_type": "code",
   "execution_count": 28,
   "metadata": {
    "collapsed": false
   },
   "outputs": [
    {
     "name": "stdout",
     "output_type": "stream",
     "text": [
      "Tests Passed\n"
     ]
    }
   ],
   "source": [
    "from sklearn.preprocessing import LabelBinarizer\n",
    "\n",
    "def one_hot_encode(x):\n",
    "    \"\"\"\n",
    "    One hot encode a list of sample labels. Return a one-hot encoded vector for each label.\n",
    "    : x: List of sample Labels\n",
    "    : return: Numpy array of one-hot encoded labels\n",
    "    \"\"\"\n",
    "    one_hot = LabelBinarizer()\n",
    "    one_hot.fit(range(10))\n",
    "    return one_hot.transform(x)\n",
    "\n",
    "\n",
    "\"\"\"\n",
    "DON'T MODIFY ANYTHING IN THIS CELL THAT IS BELOW THIS LINE\n",
    "\"\"\"\n",
    "tests.test_one_hot_encode(one_hot_encode)"
   ]
  },
  {
   "cell_type": "markdown",
   "metadata": {},
   "source": [
    "### Randomize Data\n",
    "As you saw from exploring the data above, the order of the samples are randomized.  It doesn't hurt to randomize it again, but you don't need to for this dataset."
   ]
  },
  {
   "cell_type": "markdown",
   "metadata": {},
   "source": [
    "## Preprocess all the data and save it\n",
    "Running the code cell below will preprocess all the CIFAR-10 data and save it to file. The code below also uses 10% of the training data for validation."
   ]
  },
  {
   "cell_type": "code",
   "execution_count": 29,
   "metadata": {
    "collapsed": false
   },
   "outputs": [],
   "source": [
    "\"\"\"\n",
    "DON'T MODIFY ANYTHING IN THIS CELL\n",
    "\"\"\"\n",
    "# Preprocess Training, Validation, and Testing Data\n",
    "helper.preprocess_and_save_data(cifar10_dataset_folder_path, normalize, one_hot_encode)"
   ]
  },
  {
   "cell_type": "markdown",
   "metadata": {},
   "source": [
    "# Check Point\n",
    "This is your first checkpoint.  If you ever decide to come back to this notebook or have to restart the notebook, you can start from here.  The preprocessed data has been saved to disk."
   ]
  },
  {
   "cell_type": "code",
   "execution_count": 44,
   "metadata": {
    "collapsed": true
   },
   "outputs": [],
   "source": [
    "\"\"\"\n",
    "DON'T MODIFY ANYTHING IN THIS CELL\n",
    "\"\"\"\n",
    "import pickle\n",
    "import problem_unittests as tests\n",
    "import helper\n",
    "\n",
    "# Load the Preprocessed Validation data\n",
    "valid_features, valid_labels = pickle.load(open('preprocess_validation.p', mode='rb'))"
   ]
  },
  {
   "cell_type": "markdown",
   "metadata": {},
   "source": [
    "## Build the network\n",
    "For the neural network, you'll build each layer into a function.  Most of the code you've seen has been outside of functions. To test your code more thoroughly, we require that you put each layer in a function.  This allows us to give you better feedback and test for simple mistakes using our unittests before you submit your project.\n",
    "\n",
    "If you're finding it hard to dedicate enough time for this course a week, we've provided a small shortcut to this part of the project. In the next couple of problems, you'll have the option to use [TensorFlow Layers](https://www.tensorflow.org/api_docs/python/tf/layers) or [TensorFlow Layers (contrib)](https://www.tensorflow.org/api_guides/python/contrib.layers) to build each layer, except \"Convolutional & Max Pooling\" layer.  TF Layers is similar to Keras's and TFLearn's abstraction to layers, so it's easy to pickup.\n",
    "\n",
    "If you would like to get the most of this course, try to solve all the problems without TF Layers.  Let's begin!\n",
    "### Input\n",
    "The neural network needs to read the image data, one-hot encoded labels, and dropout keep probability. Implement the following functions\n",
    "* Implement `neural_net_image_input`\n",
    " * Return a [TF Placeholder](https://www.tensorflow.org/api_docs/python/tf/placeholder)\n",
    " * Set the shape using `image_shape` with batch size set to `None`.\n",
    " * Name the TensorFlow placeholder \"x\" using the TensorFlow `name` parameter in the [TF Placeholder](https://www.tensorflow.org/api_docs/python/tf/placeholder).\n",
    "* Implement `neural_net_label_input`\n",
    " * Return a [TF Placeholder](https://www.tensorflow.org/api_docs/python/tf/placeholder)\n",
    " * Set the shape using `n_classes` with batch size set to `None`.\n",
    " * Name the TensorFlow placeholder \"y\" using the TensorFlow `name` parameter in the [TF Placeholder](https://www.tensorflow.org/api_docs/python/tf/placeholder).\n",
    "* Implement `neural_net_keep_prob_input`\n",
    " * Return a [TF Placeholder](https://www.tensorflow.org/api_docs/python/tf/placeholder) for dropout keep probability.\n",
    " * Name the TensorFlow placeholder \"keep_prob\" using the TensorFlow `name` parameter in the [TF Placeholder](https://www.tensorflow.org/api_docs/python/tf/placeholder).\n",
    "\n",
    "These names will be used at the end of the project to load your saved model.\n",
    "\n",
    "Note: `None` for shapes in TensorFlow allow for a dynamic size."
   ]
  },
  {
   "cell_type": "code",
   "execution_count": 45,
   "metadata": {
    "collapsed": false
   },
   "outputs": [
    {
     "name": "stdout",
     "output_type": "stream",
     "text": [
      "Image Input Tests Passed.\n",
      "Label Input Tests Passed.\n",
      "Keep Prob Tests Passed.\n"
     ]
    }
   ],
   "source": [
    "import tensorflow as tf\n",
    "\n",
    "def neural_net_image_input(image_shape):\n",
    "    \"\"\"\n",
    "    Return a Tensor for a bach of image input\n",
    "    : image_shape: Shape of the images\n",
    "    : return: Tensor for image input.\n",
    "    \"\"\"\n",
    "    input_shape    = (None, *image_shape)\n",
    "    input_features = tf.placeholder(tf.float32, shape=input_shape, name='x')\n",
    "    return input_features\n",
    "\n",
    "\n",
    "def neural_net_label_input(n_classes):\n",
    "    \"\"\"\n",
    "    Return a Tensor for a batch of label input\n",
    "    : n_classes: Number of classes\n",
    "    : return: Tensor for label input.\n",
    "    \"\"\"\n",
    "    return tf.placeholder(tf.float32, shape=(None, n_classes), name='y')\n",
    "\n",
    "\n",
    "def neural_net_keep_prob_input():\n",
    "    \"\"\"\n",
    "    Return a Tensor for keep probability\n",
    "    : return: Tensor for keep probability.\n",
    "    \"\"\"\n",
    "    return tf.placeholder(tf.float32, name='keep_prob') \n",
    "\n",
    "\n",
    "\"\"\"\n",
    "DON'T MODIFY ANYTHING IN THIS CELL THAT IS BELOW THIS LINE\n",
    "\"\"\"\n",
    "tf.reset_default_graph()\n",
    "tests.test_nn_image_inputs(neural_net_image_input)\n",
    "tests.test_nn_label_inputs(neural_net_label_input)\n",
    "tests.test_nn_keep_prob_inputs(neural_net_keep_prob_input)"
   ]
  },
  {
   "cell_type": "markdown",
   "metadata": {},
   "source": [
    "### Convolution and Max Pooling Layer\n",
    "Convolution layers have a lot of success with images. For this code cell, you should implement the function `conv2d_maxpool` to apply convolution then max pooling:\n",
    "* Create the weight and bias using `conv_ksize`, `conv_num_outputs` and the shape of `x_tensor`.\n",
    "* Apply a convolution to `x_tensor` using weight and `conv_strides`.\n",
    " * We recommend you use same padding, but you're welcome to use any padding.\n",
    "* Add bias\n",
    "* Add a nonlinear activation to the convolution.\n",
    "* Apply Max Pooling using `pool_ksize` and `pool_strides`.\n",
    " * We recommend you use same padding, but you're welcome to use any padding.\n",
    "\n",
    "Note: You **can't** use [TensorFlow Layers](https://www.tensorflow.org/api_docs/python/tf/layers) or [TensorFlow Layers (contrib)](https://www.tensorflow.org/api_guides/python/contrib.layers) for this layer.  You're free to use any TensorFlow package for all the other layers."
   ]
  },
  {
   "cell_type": "code",
   "execution_count": 46,
   "metadata": {
    "collapsed": false
   },
   "outputs": [
    {
     "name": "stdout",
     "output_type": "stream",
     "text": [
      "Tests Passed\n"
     ]
    }
   ],
   "source": [
    "def conv2d_maxpool(x_tensor, conv_num_outputs, conv_ksize, conv_strides, pool_ksize, pool_strides):\n",
    "    \"\"\"\n",
    "    Apply convolution then max pooling to x_tensor\n",
    "    :param x_tensor: TensorFlow Tensor\n",
    "    :param conv_num_outputs: Number of outputs for the convolutional layer\n",
    "    :param conv_strides: Stride 2-D Tuple for convolution\n",
    "    :param pool_ksize: kernal size 2-D Tuple for pool\n",
    "    :param pool_strides: Stride 2-D Tuple for pool\n",
    "    : return: A tensor that represents convolution and max pooling of x_tensor\n",
    "    \"\"\"\n",
    "    weights_shape = (*conv_ksize, int(x_tensor.shape[-1]), conv_num_outputs)\n",
    "    weights       = tf.Variable(tf.truncated_normal(weights_shape, stddev=0.1))\n",
    "    \n",
    "    bias = tf.Variable(tf.zeros(conv_num_outputs))\n",
    "    \n",
    "    padded_conv_strides = (1, *conv_strides, 1)\n",
    "    conv2d = tf.nn.conv2d(input=x_tensor, \n",
    "                          filter=weights, \n",
    "                          strides=padded_conv_strides, \n",
    "                          padding='SAME') \n",
    "    \n",
    "    conv2d += bias\n",
    "\n",
    "    conv2d = tf.nn.relu(conv2d)\n",
    "    \n",
    "    padded_mp_ksize = (1, *pool_ksize, 1)\n",
    "    mp_strides      = (1, *pool_strides, 1)\n",
    "    mp_2d           = tf.nn.max_pool(value=conv2d, \n",
    "                                     ksize=padded_mp_ksize,\n",
    "                                     strides=mp_strides, \n",
    "                                     padding='SAME')\n",
    "    \n",
    "    return mp_2d\n",
    "\n",
    "\"\"\"\n",
    "DON'T MODIFY ANYTHING IN THIS CELL THAT IS BELOW THIS LINE\n",
    "\"\"\"\n",
    "tests.test_con_pool(conv2d_maxpool)"
   ]
  },
  {
   "cell_type": "markdown",
   "metadata": {},
   "source": [
    "### Flatten Layer\n",
    "Implement the `flatten` function to change the dimension of `x_tensor` from a 4-D tensor to a 2-D tensor.  The output should be the shape (*Batch Size*, *Flattened Image Size*). You can use [TensorFlow Layers](https://www.tensorflow.org/api_docs/python/tf/layers) or [TensorFlow Layers (contrib)](https://www.tensorflow.org/api_guides/python/contrib.layers) for this layer."
   ]
  },
  {
   "cell_type": "code",
   "execution_count": 47,
   "metadata": {
    "collapsed": false
   },
   "outputs": [
    {
     "name": "stdout",
     "output_type": "stream",
     "text": [
      "Tests Passed\n"
     ]
    }
   ],
   "source": [
    "def flatten(x_tensor):\n",
    "    \"\"\"\n",
    "    Flatten x_tensor to (Batch Size, Flattened Image Size)\n",
    "    : x_tensor: A tensor of size (Batch Size, ...), where ... are the image dimensions.\n",
    "    : return: A tensor of size (Batch Size, Flattened Image Size).\n",
    "    \"\"\"\n",
    "    return tf.contrib.layers.flatten(inputs=x_tensor)\n",
    "\n",
    "\n",
    "\"\"\"\n",
    "DON'T MODIFY ANYTHING IN THIS CELL THAT IS BELOW THIS LINE\n",
    "\"\"\"\n",
    "tests.test_flatten(flatten)"
   ]
  },
  {
   "cell_type": "markdown",
   "metadata": {},
   "source": [
    "### Fully-Connected Layer\n",
    "Implement the `fully_conn` function to apply a fully connected layer to `x_tensor` with the shape (*Batch Size*, *num_outputs*). You can use [TensorFlow Layers](https://www.tensorflow.org/api_docs/python/tf/layers) or [TensorFlow Layers (contrib)](https://www.tensorflow.org/api_guides/python/contrib.layers) for this layer."
   ]
  },
  {
   "cell_type": "code",
   "execution_count": 48,
   "metadata": {
    "collapsed": false
   },
   "outputs": [
    {
     "name": "stdout",
     "output_type": "stream",
     "text": [
      "Tests Passed\n"
     ]
    }
   ],
   "source": [
    "def fully_conn(x_tensor, num_outputs):\n",
    "    \"\"\"\n",
    "    Apply a fully connected layer to x_tensor using weight and bias\n",
    "    : x_tensor: A 2-D tensor where the first dimension is batch size.\n",
    "    : num_outputs: The number of output that the new tensor should be.\n",
    "    : return: A 2-D tensor where the second dimension is num_outputs.\n",
    "    \"\"\"\n",
    "    return tf.contrib.layers.fully_connected(inputs=x_tensor, \n",
    "                                             num_outputs=num_outputs,\n",
    "                                             activation_fn=tf.nn.relu)\n",
    "\n",
    "\n",
    "\"\"\"\n",
    "DON'T MODIFY ANYTHING IN THIS CELL THAT IS BELOW THIS LINE\n",
    "\"\"\"\n",
    "tests.test_fully_conn(fully_conn)"
   ]
  },
  {
   "cell_type": "markdown",
   "metadata": {},
   "source": [
    "### Output Layer\n",
    "Implement the `output` function to apply a fully connected layer to `x_tensor` with the shape (*Batch Size*, *num_outputs*). You can use [TensorFlow Layers](https://www.tensorflow.org/api_docs/python/tf/layers) or [TensorFlow Layers (contrib)](https://www.tensorflow.org/api_guides/python/contrib.layers) for this layer.\n",
    "\n",
    "Note: Activation, softmax, or cross entropy shouldn't be applied to this."
   ]
  },
  {
   "cell_type": "code",
   "execution_count": 49,
   "metadata": {
    "collapsed": false
   },
   "outputs": [
    {
     "name": "stdout",
     "output_type": "stream",
     "text": [
      "Tests Passed\n"
     ]
    }
   ],
   "source": [
    "def output(x_tensor, num_outputs):\n",
    "    \"\"\"\n",
    "    Apply a output layer to x_tensor using weight and bias\n",
    "    : x_tensor: A 2-D tensor where the first dimension is batch size.\n",
    "    : num_outputs: The number of output that the new tensor should be.\n",
    "    : return: A 2-D tensor where the second dimension is num_outputs.\n",
    "    \"\"\"\n",
    "    return tf.contrib.layers.fully_connected(inputs=x_tensor, \n",
    "                                             num_outputs=num_outputs)\n",
    "\n",
    "\n",
    "\"\"\"\n",
    "DON'T MODIFY ANYTHING IN THIS CELL THAT IS BELOW THIS LINE\n",
    "\"\"\"\n",
    "tests.test_output(output)"
   ]
  },
  {
   "cell_type": "markdown",
   "metadata": {},
   "source": [
    "### Create Convolutional Model\n",
    "Implement the function `conv_net` to create a convolutional neural network model. The function takes in a batch of images, `x`, and outputs logits.  Use the layers you created above to create this model:\n",
    "\n",
    "* Apply 1, 2, or 3 Convolution and Max Pool layers\n",
    "* Apply a Flatten Layer\n",
    "* Apply 1, 2, or 3 Fully Connected Layers\n",
    "* Apply an Output Layer\n",
    "* Return the output\n",
    "* Apply [TensorFlow's Dropout](https://www.tensorflow.org/api_docs/python/tf/nn/dropout) to one or more layers in the model using `keep_prob`. "
   ]
  },
  {
   "cell_type": "code",
   "execution_count": 50,
   "metadata": {
    "collapsed": false
   },
   "outputs": [
    {
     "name": "stdout",
     "output_type": "stream",
     "text": [
      "Neural Network Built!\n"
     ]
    }
   ],
   "source": [
    "def conv_net(x, keep_prob):\n",
    "    \"\"\"\n",
    "    Create a convolutional neural network model\n",
    "    : x: Placeholder tensor that holds image data.\n",
    "    : keep_prob: Placeholder tensor that hold dropout keep probability.\n",
    "    : return: Tensor that represents logits\n",
    "    \"\"\"\n",
    "    conv_num_outputs = 32\n",
    "    conv_ksize       = (3, 3)\n",
    "    conv_strides     = (1, 1)\n",
    "    mp_ksize         = (2, 2)\n",
    "    mp_strides       = (2, 2)\n",
    "    # Apply 1, 2, or 3 Convolution and Max Pool layers\n",
    "    #    Play around with different number of outputs, kernel size and stride\n",
    "    # Function Definition from Above:\n",
    "    #    conv2d_maxpool(x_tensor, conv_num_outputs, conv_ksize, \n",
    "    #                   conv_strides, pool_ksize, pool_strides)\n",
    "    x = conv2d_maxpool(x, conv_num_outputs, conv_ksize, conv_strides,\n",
    "                          mp_ksize, mp_strides)\n",
    "    x = conv2d_maxpool(x, conv_num_outputs, conv_ksize, conv_strides,\n",
    "                          mp_ksize, mp_strides)\n",
    "    x = conv2d_maxpool(x, conv_num_outputs, conv_ksize, conv_strides,\n",
    "                          mp_ksize, mp_strides)\n",
    "\n",
    "    # Apply a Flatten Layer\n",
    "    # Function Definition from Above:\n",
    "    x = flatten(x)\n",
    "    \n",
    "    # Apply 1, 2, or 3 Fully Connected Layers\n",
    "    #    Play around with different number of outputs\n",
    "    # Function Definition from Above:\n",
    "    x = fully_conn(x_tensor=x, num_outputs=512)\n",
    "    x = fully_conn(x_tensor=x, num_outputs=512)\n",
    "    # Usually apply dropout after FCN\n",
    "    x = tf.nn.dropout(x, keep_prob)\n",
    "    \n",
    "    # Apply an Output Layer\n",
    "    #    Set this to the number of classes\n",
    "    # Function Definition from Above:\n",
    "    final_output = output(x_tensor=x, num_outputs=10)\n",
    "    \n",
    "    return final_output\n",
    "\n",
    "\"\"\"\n",
    "DON'T MODIFY ANYTHING IN THIS CELL THAT IS BELOW THIS LINE\n",
    "\"\"\"\n",
    "\n",
    "##############################\n",
    "## Build the Neural Network ##\n",
    "##############################\n",
    "\n",
    "# Remove previous weights, bias, inputs, etc..\n",
    "tf.reset_default_graph()\n",
    "\n",
    "# Inputs\n",
    "x = neural_net_image_input((32, 32, 3))\n",
    "y = neural_net_label_input(10)\n",
    "keep_prob = neural_net_keep_prob_input()\n",
    "\n",
    "# Model\n",
    "logits = conv_net(x, keep_prob)\n",
    "\n",
    "# Name logits Tensor, so that is can be loaded from disk after training\n",
    "logits = tf.identity(logits, name='logits')\n",
    "\n",
    "# Loss and Optimizer\n",
    "cost = tf.reduce_mean(tf.nn.softmax_cross_entropy_with_logits(logits=logits, labels=y))\n",
    "optimizer = tf.train.AdamOptimizer().minimize(cost)\n",
    "\n",
    "# Accuracy\n",
    "correct_pred = tf.equal(tf.argmax(logits, 1), tf.argmax(y, 1))\n",
    "accuracy = tf.reduce_mean(tf.cast(correct_pred, tf.float32), name='accuracy')\n",
    "\n",
    "tests.test_conv_net(conv_net)"
   ]
  },
  {
   "cell_type": "markdown",
   "metadata": {},
   "source": [
    "## Train the Neural Network\n",
    "### Single Optimization\n",
    "Implement the function `train_neural_network` to do a single optimization.  The optimization should use `optimizer` to optimize in `session` with a `feed_dict` of the following:\n",
    "* `x` for image input\n",
    "* `y` for labels\n",
    "* `keep_prob` for keep probability for dropout\n",
    "\n",
    "This function will be called for each batch, so `tf.global_variables_initializer()` has already been called.\n",
    "\n",
    "Note: Nothing needs to be returned. This function is only optimizing the neural network."
   ]
  },
  {
   "cell_type": "code",
   "execution_count": 51,
   "metadata": {
    "collapsed": false
   },
   "outputs": [
    {
     "name": "stdout",
     "output_type": "stream",
     "text": [
      "Tests Passed\n"
     ]
    }
   ],
   "source": [
    "def train_neural_network(session, optimizer, keep_probability, feature_batch, label_batch):\n",
    "    \"\"\"\n",
    "    Optimize the session on a batch of images and labels\n",
    "    : session: Current TensorFlow session\n",
    "    : optimizer: TensorFlow optimizer function\n",
    "    : keep_probability: keep probability\n",
    "    : feature_batch: Batch of Numpy image data\n",
    "    : label_batch: Batch of Numpy label data\n",
    "    \"\"\"\n",
    "    session.run(optimizer, feed_dict={\n",
    "        x: feature_batch,\n",
    "        y: label_batch,\n",
    "        keep_prob: keep_probability\n",
    "    })\n",
    "    return optimizer\n",
    "\n",
    "\n",
    "\"\"\"\n",
    "DON'T MODIFY ANYTHING IN THIS CELL THAT IS BELOW THIS LINE\n",
    "\"\"\"\n",
    "tests.test_train_nn(train_neural_network)"
   ]
  },
  {
   "cell_type": "markdown",
   "metadata": {},
   "source": [
    "### Show Stats\n",
    "Implement the function `print_stats` to print loss and validation accuracy.  Use the global variables `valid_features` and `valid_labels` to calculate validation accuracy.  Use a keep probability of `1.0` to calculate the loss and validation accuracy."
   ]
  },
  {
   "cell_type": "code",
   "execution_count": 52,
   "metadata": {
    "collapsed": false
   },
   "outputs": [],
   "source": [
    "def print_stats(session, feature_batch, label_batch, cost, accuracy):\n",
    "    \"\"\"\n",
    "    Print information about loss and validation accuracy\n",
    "    : session: Current TensorFlow session\n",
    "    : feature_batch: Batch of Numpy image data\n",
    "    : label_batch: Batch of Numpy label data\n",
    "    : cost: TensorFlow cost function\n",
    "    : accuracy: TensorFlow accuracy function\n",
    "    \"\"\"\n",
    "    loss = sess.run(cost, feed_dict={ x: feature_batch,\n",
    "                                      y: label_batch,\n",
    "                                      keep_prob: 1.0 })\n",
    "    \n",
    "    valid_acc = sess.run(accuracy, feed_dict={ x: valid_features,\n",
    "                                               y: valid_labels,\n",
    "                                               keep_prob: 1.0 })\n",
    "    \n",
    "    print('Loss: {:>10.4f} Validation Accuracy: {:.6%}'.format(loss, valid_acc))"
   ]
  },
  {
   "cell_type": "markdown",
   "metadata": {},
   "source": [
    "### Hyperparameters\n",
    "Tune the following parameters:\n",
    "* Set `epochs` to the number of iterations until the network stops learning or start overfitting\n",
    "* Set `batch_size` to the highest number that your machine has memory for.  Most people set them to common sizes of memory:\n",
    " * 64\n",
    " * 128\n",
    " * 256\n",
    " * ...\n",
    "* Set `keep_probability` to the probability of keeping a node using dropout"
   ]
  },
  {
   "cell_type": "code",
   "execution_count": 53,
   "metadata": {
    "collapsed": true
   },
   "outputs": [],
   "source": [
    "# TODO: Tune Parameters\n",
    "epochs           = 25\n",
    "batch_size       = 1024\n",
    "keep_probability = 0.5"
   ]
  },
  {
   "cell_type": "markdown",
   "metadata": {},
   "source": [
    "### Train on a Single CIFAR-10 Batch\n",
    "Instead of training the neural network on all the CIFAR-10 batches of data, let's use a single batch. This should save time while you iterate on the model to get a better accuracy.  Once the final validation accuracy is 50% or greater, run the model on all the data in the next section."
   ]
  },
  {
   "cell_type": "code",
   "execution_count": 54,
   "metadata": {
    "collapsed": false
   },
   "outputs": [
    {
     "name": "stdout",
     "output_type": "stream",
     "text": [
      "Checking the Training on a Single Batch...\n",
      "Epoch  1, CIFAR-10 Batch 1:  Loss:     2.1708 Validation Accuracy: 20.460001%\n",
      "Epoch  2, CIFAR-10 Batch 1:  Loss:     2.0495 Validation Accuracy: 29.139999%\n",
      "Epoch  3, CIFAR-10 Batch 1:  Loss:     1.9679 Validation Accuracy: 31.700000%\n",
      "Epoch  4, CIFAR-10 Batch 1:  Loss:     1.8397 Validation Accuracy: 36.120000%\n",
      "Epoch  5, CIFAR-10 Batch 1:  Loss:     1.7314 Validation Accuracy: 39.719999%\n",
      "Epoch  6, CIFAR-10 Batch 1:  Loss:     1.6860 Validation Accuracy: 40.480000%\n",
      "Epoch  7, CIFAR-10 Batch 1:  Loss:     1.5907 Validation Accuracy: 43.099999%\n",
      "Epoch  8, CIFAR-10 Batch 1:  Loss:     1.5295 Validation Accuracy: 44.479999%\n",
      "Epoch  9, CIFAR-10 Batch 1:  Loss:     1.5015 Validation Accuracy: 45.019999%\n",
      "Epoch 10, CIFAR-10 Batch 1:  Loss:     1.4599 Validation Accuracy: 45.919999%\n",
      "Epoch 11, CIFAR-10 Batch 1:  Loss:     1.4077 Validation Accuracy: 47.180000%\n",
      "Epoch 12, CIFAR-10 Batch 1:  Loss:     1.3699 Validation Accuracy: 48.359999%\n",
      "Epoch 13, CIFAR-10 Batch 1:  Loss:     1.3259 Validation Accuracy: 48.920000%\n",
      "Epoch 14, CIFAR-10 Batch 1:  Loss:     1.2820 Validation Accuracy: 50.580001%\n",
      "Epoch 15, CIFAR-10 Batch 1:  Loss:     1.2764 Validation Accuracy: 49.900001%\n",
      "Epoch 16, CIFAR-10 Batch 1:  Loss:     1.2545 Validation Accuracy: 49.860001%\n",
      "Epoch 17, CIFAR-10 Batch 1:  Loss:     1.2155 Validation Accuracy: 51.599997%\n",
      "Epoch 18, CIFAR-10 Batch 1:  Loss:     1.1531 Validation Accuracy: 52.679998%\n",
      "Epoch 19, CIFAR-10 Batch 1:  Loss:     1.1095 Validation Accuracy: 53.160000%\n",
      "Epoch 20, CIFAR-10 Batch 1:  Loss:     1.0856 Validation Accuracy: 53.420001%\n",
      "Epoch 21, CIFAR-10 Batch 1:  Loss:     1.0779 Validation Accuracy: 53.079998%\n",
      "Epoch 22, CIFAR-10 Batch 1:  Loss:     1.0435 Validation Accuracy: 53.839999%\n",
      "Epoch 23, CIFAR-10 Batch 1:  Loss:     1.0041 Validation Accuracy: 55.800003%\n",
      "Epoch 24, CIFAR-10 Batch 1:  Loss:     0.9888 Validation Accuracy: 55.180001%\n",
      "Epoch 25, CIFAR-10 Batch 1:  Loss:     0.9384 Validation Accuracy: 56.680000%\n"
     ]
    }
   ],
   "source": [
    "\"\"\"\n",
    "DON'T MODIFY ANYTHING IN THIS CELL\n",
    "\"\"\"\n",
    "print('Checking the Training on a Single Batch...')\n",
    "with tf.Session() as sess:\n",
    "    # Initializing the variables\n",
    "    sess.run(tf.global_variables_initializer())\n",
    "    \n",
    "    # Training cycle\n",
    "    for epoch in range(epochs):\n",
    "        batch_i = 1\n",
    "        for batch_features, batch_labels in helper.load_preprocess_training_batch(batch_i, batch_size):\n",
    "            train_neural_network(sess, optimizer, keep_probability, batch_features, batch_labels)\n",
    "        print('Epoch {:>2}, CIFAR-10 Batch {}:  '.format(epoch + 1, batch_i), end='')\n",
    "        print_stats(sess, batch_features, batch_labels, cost, accuracy)"
   ]
  },
  {
   "cell_type": "markdown",
   "metadata": {},
   "source": [
    "### Fully Train the Model\n",
    "Now that you got a good accuracy with a single CIFAR-10 batch, try it with all five batches."
   ]
  },
  {
   "cell_type": "code",
   "execution_count": 55,
   "metadata": {
    "collapsed": false
   },
   "outputs": [
    {
     "name": "stdout",
     "output_type": "stream",
     "text": [
      "Training...\n",
      "Epoch  1, CIFAR-10 Batch 1:  Loss:     2.2613 Validation Accuracy: 16.960000%\n",
      "Epoch  1, CIFAR-10 Batch 2:  Loss:     2.2014 Validation Accuracy: 20.100001%\n",
      "Epoch  1, CIFAR-10 Batch 3:  Loss:     2.1254 Validation Accuracy: 23.999999%\n",
      "Epoch  1, CIFAR-10 Batch 4:  Loss:     2.0079 Validation Accuracy: 31.700000%\n",
      "Epoch  1, CIFAR-10 Batch 5:  Loss:     1.9531 Validation Accuracy: 34.979999%\n",
      "Epoch  2, CIFAR-10 Batch 1:  Loss:     1.8333 Validation Accuracy: 37.120000%\n",
      "Epoch  2, CIFAR-10 Batch 2:  Loss:     1.7540 Validation Accuracy: 37.500000%\n",
      "Epoch  2, CIFAR-10 Batch 3:  Loss:     1.6179 Validation Accuracy: 41.220000%\n",
      "Epoch  2, CIFAR-10 Batch 4:  Loss:     1.6732 Validation Accuracy: 43.079999%\n",
      "Epoch  2, CIFAR-10 Batch 5:  Loss:     1.6280 Validation Accuracy: 43.439999%\n",
      "Epoch  3, CIFAR-10 Batch 1:  Loss:     1.5862 Validation Accuracy: 44.040000%\n",
      "Epoch  3, CIFAR-10 Batch 2:  Loss:     1.5501 Validation Accuracy: 44.299999%\n",
      "Epoch  3, CIFAR-10 Batch 3:  Loss:     1.4481 Validation Accuracy: 46.939999%\n",
      "Epoch  3, CIFAR-10 Batch 4:  Loss:     1.3541 Validation Accuracy: 50.160003%\n",
      "Epoch  3, CIFAR-10 Batch 5:  Loss:     1.3393 Validation Accuracy: 50.480002%\n",
      "Epoch  4, CIFAR-10 Batch 1:  Loss:     1.3246 Validation Accuracy: 51.359999%\n",
      "Epoch  4, CIFAR-10 Batch 2:  Loss:     1.3050 Validation Accuracy: 50.860000%\n",
      "Epoch  4, CIFAR-10 Batch 3:  Loss:     1.2241 Validation Accuracy: 52.880001%\n",
      "Epoch  4, CIFAR-10 Batch 4:  Loss:     1.2439 Validation Accuracy: 52.520001%\n",
      "Epoch  4, CIFAR-10 Batch 5:  Loss:     1.2078 Validation Accuracy: 54.460001%\n",
      "Epoch  5, CIFAR-10 Batch 1:  Loss:     1.2101 Validation Accuracy: 55.199999%\n",
      "Epoch  5, CIFAR-10 Batch 2:  Loss:     1.1836 Validation Accuracy: 54.960001%\n",
      "Epoch  5, CIFAR-10 Batch 3:  Loss:     1.1533 Validation Accuracy: 55.479997%\n",
      "Epoch  5, CIFAR-10 Batch 4:  Loss:     1.1447 Validation Accuracy: 55.620003%\n",
      "Epoch  5, CIFAR-10 Batch 5:  Loss:     1.1300 Validation Accuracy: 56.440002%\n",
      "Epoch  6, CIFAR-10 Batch 1:  Loss:     1.1398 Validation Accuracy: 57.239997%\n",
      "Epoch  6, CIFAR-10 Batch 2:  Loss:     1.2237 Validation Accuracy: 52.859998%\n",
      "Epoch  6, CIFAR-10 Batch 3:  Loss:     1.1715 Validation Accuracy: 55.059999%\n",
      "Epoch  6, CIFAR-10 Batch 4:  Loss:     1.1358 Validation Accuracy: 56.320000%\n",
      "Epoch  6, CIFAR-10 Batch 5:  Loss:     1.0880 Validation Accuracy: 58.080000%\n",
      "Epoch  7, CIFAR-10 Batch 1:  Loss:     1.0847 Validation Accuracy: 59.100002%\n",
      "Epoch  7, CIFAR-10 Batch 2:  Loss:     1.0699 Validation Accuracy: 58.719999%\n",
      "Epoch  7, CIFAR-10 Batch 3:  Loss:     1.0329 Validation Accuracy: 59.219998%\n",
      "Epoch  7, CIFAR-10 Batch 4:  Loss:     1.0376 Validation Accuracy: 59.460002%\n",
      "Epoch  7, CIFAR-10 Batch 5:  Loss:     0.9979 Validation Accuracy: 60.140002%\n",
      "Epoch  8, CIFAR-10 Batch 1:  Loss:     1.0390 Validation Accuracy: 60.759997%\n",
      "Epoch  8, CIFAR-10 Batch 2:  Loss:     1.0336 Validation Accuracy: 60.020000%\n",
      "Epoch  8, CIFAR-10 Batch 3:  Loss:     1.0079 Validation Accuracy: 60.039997%\n",
      "Epoch  8, CIFAR-10 Batch 4:  Loss:     0.9852 Validation Accuracy: 60.460001%\n",
      "Epoch  8, CIFAR-10 Batch 5:  Loss:     0.9440 Validation Accuracy: 61.479998%\n",
      "Epoch  9, CIFAR-10 Batch 1:  Loss:     0.9867 Validation Accuracy: 61.680001%\n",
      "Epoch  9, CIFAR-10 Batch 2:  Loss:     1.0089 Validation Accuracy: 60.339999%\n",
      "Epoch  9, CIFAR-10 Batch 3:  Loss:     0.9590 Validation Accuracy: 61.260003%\n",
      "Epoch  9, CIFAR-10 Batch 4:  Loss:     0.9279 Validation Accuracy: 62.419999%\n",
      "Epoch  9, CIFAR-10 Batch 5:  Loss:     0.8892 Validation Accuracy: 62.760001%\n",
      "Epoch 10, CIFAR-10 Batch 1:  Loss:     0.9464 Validation Accuracy: 62.879997%\n",
      "Epoch 10, CIFAR-10 Batch 2:  Loss:     0.9505 Validation Accuracy: 62.580001%\n",
      "Epoch 10, CIFAR-10 Batch 3:  Loss:     0.9490 Validation Accuracy: 61.839998%\n",
      "Epoch 10, CIFAR-10 Batch 4:  Loss:     0.9028 Validation Accuracy: 62.220001%\n",
      "Epoch 10, CIFAR-10 Batch 5:  Loss:     0.8575 Validation Accuracy: 63.800001%\n",
      "Epoch 11, CIFAR-10 Batch 1:  Loss:     0.9099 Validation Accuracy: 64.179999%\n",
      "Epoch 11, CIFAR-10 Batch 2:  Loss:     0.9127 Validation Accuracy: 63.540000%\n",
      "Epoch 11, CIFAR-10 Batch 3:  Loss:     0.8820 Validation Accuracy: 63.559997%\n",
      "Epoch 11, CIFAR-10 Batch 4:  Loss:     0.8590 Validation Accuracy: 63.180000%\n",
      "Epoch 11, CIFAR-10 Batch 5:  Loss:     0.8188 Validation Accuracy: 64.300001%\n",
      "Epoch 12, CIFAR-10 Batch 1:  Loss:     0.8882 Validation Accuracy: 64.600003%\n",
      "Epoch 12, CIFAR-10 Batch 2:  Loss:     0.8889 Validation Accuracy: 64.080000%\n",
      "Epoch 12, CIFAR-10 Batch 3:  Loss:     0.8657 Validation Accuracy: 63.639998%\n",
      "Epoch 12, CIFAR-10 Batch 4:  Loss:     0.8229 Validation Accuracy: 64.139998%\n",
      "Epoch 12, CIFAR-10 Batch 5:  Loss:     0.7708 Validation Accuracy: 65.460002%\n",
      "Epoch 13, CIFAR-10 Batch 1:  Loss:     0.8495 Validation Accuracy: 65.420002%\n",
      "Epoch 13, CIFAR-10 Batch 2:  Loss:     0.8581 Validation Accuracy: 64.279997%\n",
      "Epoch 13, CIFAR-10 Batch 3:  Loss:     0.8726 Validation Accuracy: 63.059998%\n",
      "Epoch 13, CIFAR-10 Batch 4:  Loss:     0.8099 Validation Accuracy: 64.340001%\n",
      "Epoch 13, CIFAR-10 Batch 5:  Loss:     0.7787 Validation Accuracy: 65.060002%\n",
      "Epoch 14, CIFAR-10 Batch 1:  Loss:     0.8222 Validation Accuracy: 65.719998%\n",
      "Epoch 14, CIFAR-10 Batch 2:  Loss:     0.8099 Validation Accuracy: 65.520000%\n",
      "Epoch 14, CIFAR-10 Batch 3:  Loss:     0.7954 Validation Accuracy: 65.179998%\n",
      "Epoch 14, CIFAR-10 Batch 4:  Loss:     0.7768 Validation Accuracy: 64.560002%\n",
      "Epoch 14, CIFAR-10 Batch 5:  Loss:     0.7264 Validation Accuracy: 65.979999%\n",
      "Epoch 15, CIFAR-10 Batch 1:  Loss:     0.7777 Validation Accuracy: 66.720003%\n",
      "Epoch 15, CIFAR-10 Batch 2:  Loss:     0.7790 Validation Accuracy: 66.180003%\n",
      "Epoch 15, CIFAR-10 Batch 3:  Loss:     0.7740 Validation Accuracy: 64.980000%\n",
      "Epoch 15, CIFAR-10 Batch 4:  Loss:     0.7448 Validation Accuracy: 65.020001%\n",
      "Epoch 15, CIFAR-10 Batch 5:  Loss:     0.7092 Validation Accuracy: 66.119999%\n",
      "Epoch 16, CIFAR-10 Batch 1:  Loss:     0.7407 Validation Accuracy: 67.439997%\n",
      "Epoch 16, CIFAR-10 Batch 2:  Loss:     0.7452 Validation Accuracy: 67.119998%\n",
      "Epoch 16, CIFAR-10 Batch 3:  Loss:     0.7088 Validation Accuracy: 66.200000%\n",
      "Epoch 16, CIFAR-10 Batch 4:  Loss:     0.7033 Validation Accuracy: 66.140002%\n",
      "Epoch 16, CIFAR-10 Batch 5:  Loss:     0.6724 Validation Accuracy: 66.520000%\n",
      "Epoch 17, CIFAR-10 Batch 1:  Loss:     0.7205 Validation Accuracy: 67.460001%\n",
      "Epoch 17, CIFAR-10 Batch 2:  Loss:     0.7107 Validation Accuracy: 67.439997%\n",
      "Epoch 17, CIFAR-10 Batch 3:  Loss:     0.7206 Validation Accuracy: 65.380001%\n",
      "Epoch 17, CIFAR-10 Batch 4:  Loss:     0.6817 Validation Accuracy: 66.880000%\n",
      "Epoch 17, CIFAR-10 Batch 5:  Loss:     0.6437 Validation Accuracy: 66.939998%\n",
      "Epoch 18, CIFAR-10 Batch 1:  Loss:     0.7095 Validation Accuracy: 66.540003%\n",
      "Epoch 18, CIFAR-10 Batch 2:  Loss:     0.6927 Validation Accuracy: 67.119998%\n",
      "Epoch 18, CIFAR-10 Batch 3:  Loss:     0.6539 Validation Accuracy: 67.140001%\n",
      "Epoch 18, CIFAR-10 Batch 4:  Loss:     0.6730 Validation Accuracy: 65.859997%\n",
      "Epoch 18, CIFAR-10 Batch 5:  Loss:     0.6329 Validation Accuracy: 66.399997%\n",
      "Epoch 19, CIFAR-10 Batch 1:  Loss:     0.6675 Validation Accuracy: 67.540002%\n",
      "Epoch 19, CIFAR-10 Batch 2:  Loss:     0.6779 Validation Accuracy: 67.699999%\n",
      "Epoch 19, CIFAR-10 Batch 3:  Loss:     0.6460 Validation Accuracy: 67.919999%\n",
      "Epoch 19, CIFAR-10 Batch 4:  Loss:     0.7084 Validation Accuracy: 64.060003%\n",
      "Epoch 19, CIFAR-10 Batch 5:  Loss:     0.6384 Validation Accuracy: 66.240001%\n",
      "Epoch 20, CIFAR-10 Batch 1:  Loss:     0.6572 Validation Accuracy: 67.479998%\n",
      "Epoch 20, CIFAR-10 Batch 2:  Loss:     0.7038 Validation Accuracy: 65.200001%\n",
      "Epoch 20, CIFAR-10 Batch 3:  Loss:     0.6411 Validation Accuracy: 66.720003%\n",
      "Epoch 20, CIFAR-10 Batch 4:  Loss:     0.6021 Validation Accuracy: 67.960000%\n",
      "Epoch 20, CIFAR-10 Batch 5:  Loss:     0.5969 Validation Accuracy: 67.100000%\n",
      "Epoch 21, CIFAR-10 Batch 1:  Loss:     0.6395 Validation Accuracy: 67.540002%\n",
      "Epoch 21, CIFAR-10 Batch 2:  Loss:     0.6545 Validation Accuracy: 66.500002%\n",
      "Epoch 21, CIFAR-10 Batch 3:  Loss:     0.6043 Validation Accuracy: 67.619997%\n",
      "Epoch 21, CIFAR-10 Batch 4:  Loss:     0.6038 Validation Accuracy: 67.559999%\n",
      "Epoch 21, CIFAR-10 Batch 5:  Loss:     0.5700 Validation Accuracy: 67.699999%\n",
      "Epoch 22, CIFAR-10 Batch 1:  Loss:     0.6204 Validation Accuracy: 67.619997%\n",
      "Epoch 22, CIFAR-10 Batch 2:  Loss:     0.6124 Validation Accuracy: 67.400002%\n",
      "Epoch 22, CIFAR-10 Batch 3:  Loss:     0.5580 Validation Accuracy: 68.519998%\n",
      "Epoch 22, CIFAR-10 Batch 4:  Loss:     0.5804 Validation Accuracy: 68.300003%\n",
      "Epoch 22, CIFAR-10 Batch 5:  Loss:     0.5593 Validation Accuracy: 67.820001%\n",
      "Epoch 23, CIFAR-10 Batch 1:  Loss:     0.5777 Validation Accuracy: 68.419999%\n",
      "Epoch 23, CIFAR-10 Batch 2:  Loss:     0.5723 Validation Accuracy: 68.580002%\n",
      "Epoch 23, CIFAR-10 Batch 3:  Loss:     0.5175 Validation Accuracy: 68.760002%\n",
      "Epoch 23, CIFAR-10 Batch 4:  Loss:     0.5731 Validation Accuracy: 68.019998%\n",
      "Epoch 23, CIFAR-10 Batch 5:  Loss:     0.5136 Validation Accuracy: 68.699998%\n",
      "Epoch 24, CIFAR-10 Batch 1:  Loss:     0.5404 Validation Accuracy: 69.319999%\n",
      "Epoch 24, CIFAR-10 Batch 2:  Loss:     0.5541 Validation Accuracy: 68.620002%\n",
      "Epoch 24, CIFAR-10 Batch 3:  Loss:     0.5008 Validation Accuracy: 68.140000%\n",
      "Epoch 24, CIFAR-10 Batch 4:  Loss:     0.5395 Validation Accuracy: 68.059999%\n",
      "Epoch 24, CIFAR-10 Batch 5:  Loss:     0.4762 Validation Accuracy: 69.260001%\n",
      "Epoch 25, CIFAR-10 Batch 1:  Loss:     0.5059 Validation Accuracy: 69.440001%\n",
      "Epoch 25, CIFAR-10 Batch 2:  Loss:     0.5195 Validation Accuracy: 68.419999%\n",
      "Epoch 25, CIFAR-10 Batch 3:  Loss:     0.4846 Validation Accuracy: 68.080002%\n",
      "Epoch 25, CIFAR-10 Batch 4:  Loss:     0.5022 Validation Accuracy: 67.979997%\n",
      "Epoch 25, CIFAR-10 Batch 5:  Loss:     0.4537 Validation Accuracy: 68.199998%\n"
     ]
    }
   ],
   "source": [
    "\"\"\"\n",
    "DON'T MODIFY ANYTHING IN THIS CELL\n",
    "\"\"\"\n",
    "save_model_path = './image_classification'\n",
    "\n",
    "print('Training...')\n",
    "with tf.Session() as sess:\n",
    "    # Initializing the variables\n",
    "    sess.run(tf.global_variables_initializer())\n",
    "    \n",
    "    # Training cycle\n",
    "    for epoch in range(epochs):\n",
    "        # Loop over all batches\n",
    "        n_batches = 5\n",
    "        for batch_i in range(1, n_batches + 1):\n",
    "            for batch_features, batch_labels in helper.load_preprocess_training_batch(batch_i, batch_size):\n",
    "                train_neural_network(sess, optimizer, keep_probability, batch_features, batch_labels)\n",
    "            print('Epoch {:>2}, CIFAR-10 Batch {}:  '.format(epoch + 1, batch_i), end='')\n",
    "            print_stats(sess, batch_features, batch_labels, cost, accuracy)\n",
    "            \n",
    "    # Save Model\n",
    "    saver = tf.train.Saver()\n",
    "    save_path = saver.save(sess, save_model_path)"
   ]
  },
  {
   "cell_type": "markdown",
   "metadata": {},
   "source": [
    "# Checkpoint\n",
    "The model has been saved to disk.\n",
    "## Test Model\n",
    "Test your model against the test dataset.  This will be your final accuracy. You should have an accuracy greater than 50%. If you don't, keep tweaking the model architecture and parameters."
   ]
  },
  {
   "cell_type": "code",
   "execution_count": null,
   "metadata": {
    "collapsed": false
   },
   "outputs": [],
   "source": [
    "\"\"\"\n",
    "DON'T MODIFY ANYTHING IN THIS CELL\n",
    "\"\"\"\n",
    "%matplotlib inline\n",
    "%config InlineBackend.figure_format = 'retina'\n",
    "\n",
    "import tensorflow as tf\n",
    "import pickle\n",
    "import helper\n",
    "import random\n",
    "\n",
    "# Set batch size if not already set\n",
    "try:\n",
    "    if batch_size:\n",
    "        pass\n",
    "except NameError:\n",
    "    batch_size = 64\n",
    "\n",
    "save_model_path = './image_classification'\n",
    "n_samples = 4\n",
    "top_n_predictions = 3\n",
    "\n",
    "def test_model():\n",
    "    \"\"\"\n",
    "    Test the saved model against the test dataset\n",
    "    \"\"\"\n",
    "\n",
    "    test_features, test_labels = pickle.load(open('preprocess_training.p', mode='rb'))\n",
    "    loaded_graph = tf.Graph()\n",
    "\n",
    "    with tf.Session(graph=loaded_graph) as sess:\n",
    "        # Load model\n",
    "        loader = tf.train.import_meta_graph(save_model_path + '.meta')\n",
    "        loader.restore(sess, save_model_path)\n",
    "\n",
    "        # Get Tensors from loaded model\n",
    "        loaded_x = loaded_graph.get_tensor_by_name('x:0')\n",
    "        loaded_y = loaded_graph.get_tensor_by_name('y:0')\n",
    "        loaded_keep_prob = loaded_graph.get_tensor_by_name('keep_prob:0')\n",
    "        loaded_logits = loaded_graph.get_tensor_by_name('logits:0')\n",
    "        loaded_acc = loaded_graph.get_tensor_by_name('accuracy:0')\n",
    "        \n",
    "        # Get accuracy in batches for memory limitations\n",
    "        test_batch_acc_total = 0\n",
    "        test_batch_count = 0\n",
    "        \n",
    "        for train_feature_batch, train_label_batch in helper.batch_features_labels(test_features, test_labels, batch_size):\n",
    "            test_batch_acc_total += sess.run(\n",
    "                loaded_acc,\n",
    "                feed_dict={loaded_x: train_feature_batch, loaded_y: train_label_batch, loaded_keep_prob: 1.0})\n",
    "            test_batch_count += 1\n",
    "\n",
    "        print('Testing Accuracy: {}\\n'.format(test_batch_acc_total/test_batch_count))\n",
    "\n",
    "        # Print Random Samples\n",
    "        random_test_features, random_test_labels = tuple(zip(*random.sample(list(zip(test_features, test_labels)), n_samples)))\n",
    "        random_test_predictions = sess.run(\n",
    "            tf.nn.top_k(tf.nn.softmax(loaded_logits), top_n_predictions),\n",
    "            feed_dict={loaded_x: random_test_features, loaded_y: random_test_labels, loaded_keep_prob: 1.0})\n",
    "        helper.display_image_predictions(random_test_features, random_test_labels, random_test_predictions)\n",
    "\n",
    "\n",
    "test_model()"
   ]
  },
  {
   "cell_type": "markdown",
   "metadata": {},
   "source": [
    "## Why 50-70% Accuracy?\n",
    "You might be wondering why you can't get an accuracy any higher. First things first, 50% isn't bad for a simple CNN.  Pure guessing would get you 10% accuracy. However, you might notice people are getting scores [well above 70%](http://rodrigob.github.io/are_we_there_yet/build/classification_datasets_results.html#43494641522d3130).  That's because we haven't taught you all there is to know about neural networks. We still need to cover a few more techniques.\n",
    "## Submitting This Project\n",
    "When submitting this project, make sure to run all the cells before saving the notebook.  Save the notebook file as \"dlnd_image_classification.ipynb\" and save it as a HTML file under \"File\" -> \"Download as\".  Include the \"helper.py\" and \"problem_unittests.py\" files in your submission."
   ]
  }
 ],
 "metadata": {
  "kernelspec": {
   "display_name": "Python 3",
   "language": "python",
   "name": "python3"
  },
  "language_info": {
   "codemirror_mode": {
    "name": "ipython",
    "version": 3
   },
   "file_extension": ".py",
   "mimetype": "text/x-python",
   "name": "python",
   "nbconvert_exporter": "python",
   "pygments_lexer": "ipython3",
   "version": "3.6.0"
  }
 },
 "nbformat": 4,
 "nbformat_minor": 0
}
